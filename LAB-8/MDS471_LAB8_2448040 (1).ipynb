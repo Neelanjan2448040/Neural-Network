{
  "cells": [
    {
      "cell_type": "markdown",
      "metadata": {
        "id": "8RgXyUwn6CtS"
      },
      "source": [
        "<b>Name:</b> Neelanjan Dutta <br><b>\n",
        "<b>Register number:</b> 2448040"
      ]
    },
    {
      "cell_type": "markdown",
      "metadata": {
        "id": "zomTD_u94SHo"
      },
      "source": [
        "## **LAB 8 - LSTM**"
      ]
    },
    {
      "cell_type": "markdown",
      "metadata": {
        "id": "mRXTzlihz8oO"
      },
      "source": [
        "**Program #1:** NLP Sequence Prediction using LSTM\n",
        "\n",
        "An online customer support company wants to build a chat reply suggestion\n",
        "system to help its agents respond faster. The system should take a sequence\n",
        "of customer words (ex:I am not able to) and predict the next likely word\n",
        "(ex:login). This will help agents complete sentences faster and improve\n",
        "response time.\n",
        "You are required to implement an LSTM-based text prediction model using\n",
        "TensorFlow Keras that can predict the next word in a given text\n",
        "sequence.Use any Publicly available Dataset."
      ]
    },
    {
      "cell_type": "markdown",
      "metadata": {
        "id": "hUt5JT8K3EE4"
      },
      "source": [
        "**WORKFLOW: (Next Word Prediction on SMS Spam Dataset using LSTM)**\n",
        "\n",
        "**1. Kaggle Authentication and Dataset Download**\n",
        "\n",
        "* Imported required libraries: `pandas`, `numpy`, `tensorflow`, `matplotlib`.\n",
        "* Used `google.colab.files.upload()` to upload `kaggle.json` for authentication.\n",
        "* Saved Kaggle credentials in `/root/.kaggle/kaggle.json` with correct permissions.\n",
        "* Downloaded the dataset **\"SMS Spam Collection Dataset\"** from Kaggle and extracted it to `/content`.\n",
        "\n",
        "**2. Data Loading and Basic Cleaning**\n",
        "\n",
        "* Loaded the dataset (`spam.csv`) using `pd.read_csv()` with `latin-1` encoding.\n",
        "* Selected only the message text column (`v2`) and renamed it to `text`.\n",
        "* Converted all text to lowercase and removed empty or whitespace-only entries.\n",
        "* Printed total number of non-empty messages.\n",
        "\n",
        "**3. Tokenization and Sequence Preparation**\n",
        "\n",
        "* Created a `Tokenizer()` object and fit it on the entire SMS text corpus.\n",
        "* Calculated `total_words` = vocabulary size + 1.\n",
        "* Generated **n-gram sequences** for each message:\n",
        "\n",
        "  * For every tokenized message, created sequences of length 2 up to the full message length.\n",
        "* Found `max_seq_len` (length of longest sequence).\n",
        "* Applied `pad_sequences()` to make all sequences equal length (pre-padding).\n",
        "* Split into:\n",
        "\n",
        "  * `X` → all words except last\n",
        "  * `y` → last word in the sequence (one-hot encoded).\n",
        "\n",
        "**4. LSTM Model Building**\n",
        "\n",
        "* Built a Sequential model:\n",
        "\n",
        "  * **Embedding layer**: (input\\_dim=total\\_words, output\\_dim=50)\n",
        "  * **LSTM layer**: 100 units\n",
        "  * **Dense output layer**: `softmax` activation, size = vocabulary size\n",
        "* Compiled with:\n",
        "\n",
        "  * Loss: `categorical_crossentropy`\n",
        "  * Optimizer: `adam`\n",
        "  * Metric: `accuracy`\n",
        "\n",
        "**5. Model Training**\n",
        "\n",
        "* Trained for 50 epochs with:\n",
        "\n",
        "  * `validation_split=0.2` (20% of data used for validation)\n",
        "  * Verbose output enabled\n",
        "* Captured training history for accuracy and loss.\n",
        "\n",
        "**6. Accuracy & Loss Visualization**\n",
        "\n",
        "* Plotted **Training vs Validation Accuracy** over epochs.\n",
        "* Plotted **Training vs Validation Loss** over epochs.\n",
        "* Used `matplotlib` with clear labels, legends, and grid lines.\n",
        "\n",
        "**7. Next Word Prediction Function**\n",
        "\n",
        "* Defined `predict_next_word(seed_text, next_words)` to:\n",
        "\n",
        "  * Tokenize and pad input text\n",
        "  * Predict the next word using the trained model\n",
        "  * Append predicted word to seed text and repeat for the specified number of words.\n",
        "\n",
        "**8. Model Testing on Sample Inputs**\n",
        "\n",
        "* Tested the model on predefined sentences:\n",
        "\n",
        "  * `\"i am not able\"`\n",
        "  * `\"please help me\"`\n",
        "  * `\"how can i\"`\n",
        "  * `\"i cannot login\"`\n",
        "  * `\"my account is\"`\n",
        "* Printed the input sentence and the predicted next word.\n",
        "\n"
      ]
    },
    {
      "cell_type": "code",
      "execution_count": null,
      "metadata": {
        "id": "w0-tDT0JQiRj"
      },
      "outputs": [],
      "source": [
        "import pandas as pd\n",
        "import numpy as np\n",
        "import tensorflow as tf\n",
        "from tensorflow.keras.preprocessing.text import Tokenizer\n",
        "from tensorflow.keras.preprocessing.sequence import pad_sequences\n",
        "from tensorflow.keras.models import Sequential\n",
        "from tensorflow.keras.layers import Embedding, LSTM, Dense\n",
        "import matplotlib.pyplot as plt"
      ]
    },
    {
      "cell_type": "code",
      "execution_count": null,
      "metadata": {
        "colab": {
          "base_uri": "https://localhost:8080/",
          "height": 201
        },
        "id": "emK2QEPmxOvC",
        "outputId": "b1577e0b-3667-4598-cb6d-eb348050fcdc"
      },
      "outputs": [
        {
          "name": "stdout",
          "output_type": "stream",
          "text": [
            "Please upload your kaggle.json file...\n"
          ]
        },
        {
          "data": {
            "text/html": [
              "\n",
              "     <input type=\"file\" id=\"files-388a6754-c2b4-487b-8571-1a10039ed98c\" name=\"files[]\" multiple disabled\n",
              "        style=\"border:none\" />\n",
              "     <output id=\"result-388a6754-c2b4-487b-8571-1a10039ed98c\">\n",
              "      Upload widget is only available when the cell has been executed in the\n",
              "      current browser session. Please rerun this cell to enable.\n",
              "      </output>\n",
              "      <script>// Copyright 2017 Google LLC\n",
              "//\n",
              "// Licensed under the Apache License, Version 2.0 (the \"License\");\n",
              "// you may not use this file except in compliance with the License.\n",
              "// You may obtain a copy of the License at\n",
              "//\n",
              "//      http://www.apache.org/licenses/LICENSE-2.0\n",
              "//\n",
              "// Unless required by applicable law or agreed to in writing, software\n",
              "// distributed under the License is distributed on an \"AS IS\" BASIS,\n",
              "// WITHOUT WARRANTIES OR CONDITIONS OF ANY KIND, either express or implied.\n",
              "// See the License for the specific language governing permissions and\n",
              "// limitations under the License.\n",
              "\n",
              "/**\n",
              " * @fileoverview Helpers for google.colab Python module.\n",
              " */\n",
              "(function(scope) {\n",
              "function span(text, styleAttributes = {}) {\n",
              "  const element = document.createElement('span');\n",
              "  element.textContent = text;\n",
              "  for (const key of Object.keys(styleAttributes)) {\n",
              "    element.style[key] = styleAttributes[key];\n",
              "  }\n",
              "  return element;\n",
              "}\n",
              "\n",
              "// Max number of bytes which will be uploaded at a time.\n",
              "const MAX_PAYLOAD_SIZE = 100 * 1024;\n",
              "\n",
              "function _uploadFiles(inputId, outputId) {\n",
              "  const steps = uploadFilesStep(inputId, outputId);\n",
              "  const outputElement = document.getElementById(outputId);\n",
              "  // Cache steps on the outputElement to make it available for the next call\n",
              "  // to uploadFilesContinue from Python.\n",
              "  outputElement.steps = steps;\n",
              "\n",
              "  return _uploadFilesContinue(outputId);\n",
              "}\n",
              "\n",
              "// This is roughly an async generator (not supported in the browser yet),\n",
              "// where there are multiple asynchronous steps and the Python side is going\n",
              "// to poll for completion of each step.\n",
              "// This uses a Promise to block the python side on completion of each step,\n",
              "// then passes the result of the previous step as the input to the next step.\n",
              "function _uploadFilesContinue(outputId) {\n",
              "  const outputElement = document.getElementById(outputId);\n",
              "  const steps = outputElement.steps;\n",
              "\n",
              "  const next = steps.next(outputElement.lastPromiseValue);\n",
              "  return Promise.resolve(next.value.promise).then((value) => {\n",
              "    // Cache the last promise value to make it available to the next\n",
              "    // step of the generator.\n",
              "    outputElement.lastPromiseValue = value;\n",
              "    return next.value.response;\n",
              "  });\n",
              "}\n",
              "\n",
              "/**\n",
              " * Generator function which is called between each async step of the upload\n",
              " * process.\n",
              " * @param {string} inputId Element ID of the input file picker element.\n",
              " * @param {string} outputId Element ID of the output display.\n",
              " * @return {!Iterable<!Object>} Iterable of next steps.\n",
              " */\n",
              "function* uploadFilesStep(inputId, outputId) {\n",
              "  const inputElement = document.getElementById(inputId);\n",
              "  inputElement.disabled = false;\n",
              "\n",
              "  const outputElement = document.getElementById(outputId);\n",
              "  outputElement.innerHTML = '';\n",
              "\n",
              "  const pickedPromise = new Promise((resolve) => {\n",
              "    inputElement.addEventListener('change', (e) => {\n",
              "      resolve(e.target.files);\n",
              "    });\n",
              "  });\n",
              "\n",
              "  const cancel = document.createElement('button');\n",
              "  inputElement.parentElement.appendChild(cancel);\n",
              "  cancel.textContent = 'Cancel upload';\n",
              "  const cancelPromise = new Promise((resolve) => {\n",
              "    cancel.onclick = () => {\n",
              "      resolve(null);\n",
              "    };\n",
              "  });\n",
              "\n",
              "  // Wait for the user to pick the files.\n",
              "  const files = yield {\n",
              "    promise: Promise.race([pickedPromise, cancelPromise]),\n",
              "    response: {\n",
              "      action: 'starting',\n",
              "    }\n",
              "  };\n",
              "\n",
              "  cancel.remove();\n",
              "\n",
              "  // Disable the input element since further picks are not allowed.\n",
              "  inputElement.disabled = true;\n",
              "\n",
              "  if (!files) {\n",
              "    return {\n",
              "      response: {\n",
              "        action: 'complete',\n",
              "      }\n",
              "    };\n",
              "  }\n",
              "\n",
              "  for (const file of files) {\n",
              "    const li = document.createElement('li');\n",
              "    li.append(span(file.name, {fontWeight: 'bold'}));\n",
              "    li.append(span(\n",
              "        `(${file.type || 'n/a'}) - ${file.size} bytes, ` +\n",
              "        `last modified: ${\n",
              "            file.lastModifiedDate ? file.lastModifiedDate.toLocaleDateString() :\n",
              "                                    'n/a'} - `));\n",
              "    const percent = span('0% done');\n",
              "    li.appendChild(percent);\n",
              "\n",
              "    outputElement.appendChild(li);\n",
              "\n",
              "    const fileDataPromise = new Promise((resolve) => {\n",
              "      const reader = new FileReader();\n",
              "      reader.onload = (e) => {\n",
              "        resolve(e.target.result);\n",
              "      };\n",
              "      reader.readAsArrayBuffer(file);\n",
              "    });\n",
              "    // Wait for the data to be ready.\n",
              "    let fileData = yield {\n",
              "      promise: fileDataPromise,\n",
              "      response: {\n",
              "        action: 'continue',\n",
              "      }\n",
              "    };\n",
              "\n",
              "    // Use a chunked sending to avoid message size limits. See b/62115660.\n",
              "    let position = 0;\n",
              "    do {\n",
              "      const length = Math.min(fileData.byteLength - position, MAX_PAYLOAD_SIZE);\n",
              "      const chunk = new Uint8Array(fileData, position, length);\n",
              "      position += length;\n",
              "\n",
              "      const base64 = btoa(String.fromCharCode.apply(null, chunk));\n",
              "      yield {\n",
              "        response: {\n",
              "          action: 'append',\n",
              "          file: file.name,\n",
              "          data: base64,\n",
              "        },\n",
              "      };\n",
              "\n",
              "      let percentDone = fileData.byteLength === 0 ?\n",
              "          100 :\n",
              "          Math.round((position / fileData.byteLength) * 100);\n",
              "      percent.textContent = `${percentDone}% done`;\n",
              "\n",
              "    } while (position < fileData.byteLength);\n",
              "  }\n",
              "\n",
              "  // All done.\n",
              "  yield {\n",
              "    response: {\n",
              "      action: 'complete',\n",
              "    }\n",
              "  };\n",
              "}\n",
              "\n",
              "scope.google = scope.google || {};\n",
              "scope.google.colab = scope.google.colab || {};\n",
              "scope.google.colab._files = {\n",
              "  _uploadFiles,\n",
              "  _uploadFilesContinue,\n",
              "};\n",
              "})(self);\n",
              "</script> "
            ],
            "text/plain": [
              "<IPython.core.display.HTML object>"
            ]
          },
          "metadata": {},
          "output_type": "display_data"
        },
        {
          "name": "stdout",
          "output_type": "stream",
          "text": [
            "Saving kaggle.json to kaggle (5).json\n",
            "Kaggle credentials saved successfully!\n",
            "Dataset URL: https://www.kaggle.com/datasets/uciml/sms-spam-collection-dataset\n",
            "License(s): unknown\n",
            "sms-spam-collection-dataset.zip: Skipping, found more recently modified local copy (use --force to force download)\n",
            "Archive:  /content/sms-spam-collection-dataset.zip\n",
            "  inflating: /content/spam.csv       \n"
          ]
        }
      ],
      "source": [
        "# Kaggle authentication\n",
        "from google.colab import files\n",
        "import os\n",
        "\n",
        "print(\"Please upload your kaggle.json file...\")\n",
        "uploaded = files.upload()\n",
        "\n",
        "uploaded_filename = list(uploaded.keys())[0]\n",
        "os.makedirs(\"/root/.kaggle\", exist_ok=True)\n",
        "with open(\"/root/.kaggle/kaggle.json\", \"wb\") as f:\n",
        "    f.write(uploaded[uploaded_filename])\n",
        "os.chmod(\"/root/.kaggle/kaggle.json\", 600)\n",
        "print(\"Kaggle credentials saved successfully!\")\n",
        "\n",
        "# ------------------------------\n",
        "# 1. Download dataset from Kaggle\n",
        "# ------------------------------\n",
        "!kaggle datasets download -d uciml/sms-spam-collection-dataset -p /content\n",
        "!unzip -o /content/sms-spam-collection-dataset.zip -d /content"
      ]
    },
    {
      "cell_type": "code",
      "execution_count": null,
      "metadata": {
        "colab": {
          "base_uri": "https://localhost:8080/"
        },
        "id": "GUr1JiawxOsZ",
        "outputId": "99cb7ba3-5a67-419b-da98-aa023c87db07"
      },
      "outputs": [
        {
          "name": "stdout",
          "output_type": "stream",
          "text": [
            "Total messages: 5572\n"
          ]
        }
      ],
      "source": [
        "# Load and preprocess data\n",
        "df = pd.read_csv(\"/content/spam.csv\", encoding='latin-1')\n",
        "df = df[['v2']]  # v2 = message text\n",
        "df.rename(columns={'v2': 'text'}, inplace=True)\n",
        "\n",
        "# Lowercase & remove empty entries\n",
        "df['text'] = df['text'].astype(str).str.lower()\n",
        "df = df[df['text'].str.strip() != '']\n",
        "\n",
        "print(f\"Total messages: {len(df)}\")"
      ]
    },
    {
      "cell_type": "code",
      "execution_count": null,
      "metadata": {
        "colab": {
          "base_uri": "https://localhost:8080/"
        },
        "id": "LQHqAr4GxOp1",
        "outputId": "8fca9e80-ee8b-4476-adb0-ebe35741c2e0"
      },
      "outputs": [
        {
          "name": "stdout",
          "output_type": "stream",
          "text": [
            "Total unique words: 8921\n",
            "Shape of X: (82439, 188), Shape of y: (82439, 8921)\n"
          ]
        }
      ],
      "source": [
        "# Tokenization & sequence creation\n",
        "\n",
        "tokenizer = Tokenizer()\n",
        "tokenizer.fit_on_texts(df['text'])\n",
        "total_words = len(tokenizer.word_index) + 1\n",
        "print(f\"Total unique words: {total_words}\")\n",
        "\n",
        "input_sequences = []\n",
        "for line in df['text']:\n",
        "    token_list = tokenizer.texts_to_sequences([line])[0]\n",
        "    for i in range(1, len(token_list)):\n",
        "        n_gram_seq = token_list[:i+1]\n",
        "        input_sequences.append(n_gram_seq)\n",
        "\n",
        "max_seq_len = max(len(seq) for seq in input_sequences)\n",
        "input_sequences = np.array(pad_sequences(input_sequences, maxlen=max_seq_len, padding='pre'))\n",
        "\n",
        "X = input_sequences[:, :-1]\n",
        "y = input_sequences[:, -1]\n",
        "y = tf.keras.utils.to_categorical(y, num_classes=total_words)\n",
        "\n",
        "print(f\"Shape of X: {X.shape}, Shape of y: {y.shape}\")\n"
      ]
    },
    {
      "cell_type": "code",
      "execution_count": null,
      "metadata": {
        "colab": {
          "base_uri": "https://localhost:8080/",
          "height": 225
        },
        "id": "waPpNL0BxOnM",
        "outputId": "ab64ebb2-a07c-47c3-b723-690f7237631c"
      },
      "outputs": [
        {
          "data": {
            "text/html": [
              "<pre style=\"white-space:pre;overflow-x:auto;line-height:normal;font-family:Menlo,'DejaVu Sans Mono',consolas,'Courier New',monospace\"><span style=\"font-weight: bold\">Model: \"sequential\"</span>\n",
              "</pre>\n"
            ],
            "text/plain": [
              "\u001b[1mModel: \"sequential\"\u001b[0m\n"
            ]
          },
          "metadata": {},
          "output_type": "display_data"
        },
        {
          "data": {
            "text/html": [
              "<pre style=\"white-space:pre;overflow-x:auto;line-height:normal;font-family:Menlo,'DejaVu Sans Mono',consolas,'Courier New',monospace\">┏━━━━━━━━━━━━━━━━━━━━━━━━━━━━━━━━━┳━━━━━━━━━━━━━━━━━━━━━━━━┳━━━━━━━━━━━━━━━┓\n",
              "┃<span style=\"font-weight: bold\"> Layer (type)                    </span>┃<span style=\"font-weight: bold\"> Output Shape           </span>┃<span style=\"font-weight: bold\">       Param # </span>┃\n",
              "┡━━━━━━━━━━━━━━━━━━━━━━━━━━━━━━━━━╇━━━━━━━━━━━━━━━━━━━━━━━━╇━━━━━━━━━━━━━━━┩\n",
              "│ embedding (<span style=\"color: #0087ff; text-decoration-color: #0087ff\">Embedding</span>)           │ (<span style=\"color: #00d7ff; text-decoration-color: #00d7ff\">None</span>, <span style=\"color: #00af00; text-decoration-color: #00af00\">188</span>, <span style=\"color: #00af00; text-decoration-color: #00af00\">50</span>)        │       <span style=\"color: #00af00; text-decoration-color: #00af00\">446,050</span> │\n",
              "├─────────────────────────────────┼────────────────────────┼───────────────┤\n",
              "│ lstm (<span style=\"color: #0087ff; text-decoration-color: #0087ff\">LSTM</span>)                     │ (<span style=\"color: #00d7ff; text-decoration-color: #00d7ff\">None</span>, <span style=\"color: #00af00; text-decoration-color: #00af00\">100</span>)            │        <span style=\"color: #00af00; text-decoration-color: #00af00\">60,400</span> │\n",
              "├─────────────────────────────────┼────────────────────────┼───────────────┤\n",
              "│ dense (<span style=\"color: #0087ff; text-decoration-color: #0087ff\">Dense</span>)                   │ (<span style=\"color: #00d7ff; text-decoration-color: #00d7ff\">None</span>, <span style=\"color: #00af00; text-decoration-color: #00af00\">8921</span>)           │       <span style=\"color: #00af00; text-decoration-color: #00af00\">901,021</span> │\n",
              "└─────────────────────────────────┴────────────────────────┴───────────────┘\n",
              "</pre>\n"
            ],
            "text/plain": [
              "┏━━━━━━━━━━━━━━━━━━━━━━━━━━━━━━━━━┳━━━━━━━━━━━━━━━━━━━━━━━━┳━━━━━━━━━━━━━━━┓\n",
              "┃\u001b[1m \u001b[0m\u001b[1mLayer (type)                   \u001b[0m\u001b[1m \u001b[0m┃\u001b[1m \u001b[0m\u001b[1mOutput Shape          \u001b[0m\u001b[1m \u001b[0m┃\u001b[1m \u001b[0m\u001b[1m      Param #\u001b[0m\u001b[1m \u001b[0m┃\n",
              "┡━━━━━━━━━━━━━━━━━━━━━━━━━━━━━━━━━╇━━━━━━━━━━━━━━━━━━━━━━━━╇━━━━━━━━━━━━━━━┩\n",
              "│ embedding (\u001b[38;5;33mEmbedding\u001b[0m)           │ (\u001b[38;5;45mNone\u001b[0m, \u001b[38;5;34m188\u001b[0m, \u001b[38;5;34m50\u001b[0m)        │       \u001b[38;5;34m446,050\u001b[0m │\n",
              "├─────────────────────────────────┼────────────────────────┼───────────────┤\n",
              "│ lstm (\u001b[38;5;33mLSTM\u001b[0m)                     │ (\u001b[38;5;45mNone\u001b[0m, \u001b[38;5;34m100\u001b[0m)            │        \u001b[38;5;34m60,400\u001b[0m │\n",
              "├─────────────────────────────────┼────────────────────────┼───────────────┤\n",
              "│ dense (\u001b[38;5;33mDense\u001b[0m)                   │ (\u001b[38;5;45mNone\u001b[0m, \u001b[38;5;34m8921\u001b[0m)           │       \u001b[38;5;34m901,021\u001b[0m │\n",
              "└─────────────────────────────────┴────────────────────────┴───────────────┘\n"
            ]
          },
          "metadata": {},
          "output_type": "display_data"
        },
        {
          "data": {
            "text/html": [
              "<pre style=\"white-space:pre;overflow-x:auto;line-height:normal;font-family:Menlo,'DejaVu Sans Mono',consolas,'Courier New',monospace\"><span style=\"font-weight: bold\"> Total params: </span><span style=\"color: #00af00; text-decoration-color: #00af00\">1,407,471</span> (5.37 MB)\n",
              "</pre>\n"
            ],
            "text/plain": [
              "\u001b[1m Total params: \u001b[0m\u001b[38;5;34m1,407,471\u001b[0m (5.37 MB)\n"
            ]
          },
          "metadata": {},
          "output_type": "display_data"
        },
        {
          "data": {
            "text/html": [
              "<pre style=\"white-space:pre;overflow-x:auto;line-height:normal;font-family:Menlo,'DejaVu Sans Mono',consolas,'Courier New',monospace\"><span style=\"font-weight: bold\"> Trainable params: </span><span style=\"color: #00af00; text-decoration-color: #00af00\">1,407,471</span> (5.37 MB)\n",
              "</pre>\n"
            ],
            "text/plain": [
              "\u001b[1m Trainable params: \u001b[0m\u001b[38;5;34m1,407,471\u001b[0m (5.37 MB)\n"
            ]
          },
          "metadata": {},
          "output_type": "display_data"
        },
        {
          "data": {
            "text/html": [
              "<pre style=\"white-space:pre;overflow-x:auto;line-height:normal;font-family:Menlo,'DejaVu Sans Mono',consolas,'Courier New',monospace\"><span style=\"font-weight: bold\"> Non-trainable params: </span><span style=\"color: #00af00; text-decoration-color: #00af00\">0</span> (0.00 B)\n",
              "</pre>\n"
            ],
            "text/plain": [
              "\u001b[1m Non-trainable params: \u001b[0m\u001b[38;5;34m0\u001b[0m (0.00 B)\n"
            ]
          },
          "metadata": {},
          "output_type": "display_data"
        }
      ],
      "source": [
        "# Build lightweight LSTM model\n",
        "\n",
        "model = Sequential()\n",
        "model.add(Embedding(total_words, 50))\n",
        "model.add(LSTM(100))\n",
        "model.add(Dense(total_words, activation='softmax'))\n",
        "\n",
        "model.build(input_shape=(None, max_seq_len-1))\n",
        "model.compile(loss='categorical_crossentropy', optimizer='adam', metrics=['accuracy'])\n",
        "model.summary()"
      ]
    },
    {
      "cell_type": "code",
      "execution_count": null,
      "metadata": {
        "colab": {
          "base_uri": "https://localhost:8080/"
        },
        "id": "XiHI7pVRxOkc",
        "outputId": "fb021da9-2a58-4b34-d23f-a529684be6ca"
      },
      "outputs": [
        {
          "name": "stdout",
          "output_type": "stream",
          "text": [
            "Epoch 1/50\n",
            "\u001b[1m2061/2061\u001b[0m \u001b[32m━━━━━━━━━━━━━━━━━━━━\u001b[0m\u001b[37m\u001b[0m \u001b[1m42s\u001b[0m 17ms/step - accuracy: 0.0268 - loss: 7.3439 - val_accuracy: 0.0344 - val_loss: 6.9239\n",
            "Epoch 2/50\n",
            "\u001b[1m2061/2061\u001b[0m \u001b[32m━━━━━━━━━━━━━━━━━━━━\u001b[0m\u001b[37m\u001b[0m \u001b[1m34s\u001b[0m 16ms/step - accuracy: 0.0471 - loss: 6.5737 - val_accuracy: 0.0621 - val_loss: 6.6557\n",
            "Epoch 3/50\n",
            "\u001b[1m2061/2061\u001b[0m \u001b[32m━━━━━━━━━━━━━━━━━━━━\u001b[0m\u001b[37m\u001b[0m \u001b[1m40s\u001b[0m 16ms/step - accuracy: 0.0718 - loss: 6.0617 - val_accuracy: 0.0796 - val_loss: 6.4922\n",
            "Epoch 4/50\n",
            "\u001b[1m2061/2061\u001b[0m \u001b[32m━━━━━━━━━━━━━━━━━━━━\u001b[0m\u001b[37m\u001b[0m \u001b[1m43s\u001b[0m 17ms/step - accuracy: 0.1004 - loss: 5.6372 - val_accuracy: 0.1023 - val_loss: 6.3754\n",
            "Epoch 5/50\n",
            "\u001b[1m2061/2061\u001b[0m \u001b[32m━━━━━━━━━━━━━━━━━━━━\u001b[0m\u001b[37m\u001b[0m \u001b[1m40s\u001b[0m 16ms/step - accuracy: 0.1351 - loss: 5.2205 - val_accuracy: 0.1198 - val_loss: 6.3310\n",
            "Epoch 6/50\n",
            "\u001b[1m2061/2061\u001b[0m \u001b[32m━━━━━━━━━━━━━━━━━━━━\u001b[0m\u001b[37m\u001b[0m \u001b[1m39s\u001b[0m 16ms/step - accuracy: 0.1690 - loss: 4.8476 - val_accuracy: 0.1333 - val_loss: 6.3300\n",
            "Epoch 7/50\n",
            "\u001b[1m2061/2061\u001b[0m \u001b[32m━━━━━━━━━━━━━━━━━━━━\u001b[0m\u001b[37m\u001b[0m \u001b[1m43s\u001b[0m 17ms/step - accuracy: 0.2010 - loss: 4.5154 - val_accuracy: 0.1480 - val_loss: 6.3187\n",
            "Epoch 8/50\n",
            "\u001b[1m2061/2061\u001b[0m \u001b[32m━━━━━━━━━━━━━━━━━━━━\u001b[0m\u001b[37m\u001b[0m \u001b[1m41s\u001b[0m 16ms/step - accuracy: 0.2352 - loss: 4.2038 - val_accuracy: 0.1587 - val_loss: 6.3392\n",
            "Epoch 9/50\n",
            "\u001b[1m2061/2061\u001b[0m \u001b[32m━━━━━━━━━━━━━━━━━━━━\u001b[0m\u001b[37m\u001b[0m \u001b[1m42s\u001b[0m 17ms/step - accuracy: 0.2666 - loss: 3.9603 - val_accuracy: 0.1660 - val_loss: 6.3650\n",
            "Epoch 10/50\n",
            "\u001b[1m2061/2061\u001b[0m \u001b[32m━━━━━━━━━━━━━━━━━━━━\u001b[0m\u001b[37m\u001b[0m \u001b[1m40s\u001b[0m 17ms/step - accuracy: 0.3010 - loss: 3.7096 - val_accuracy: 0.1738 - val_loss: 6.4117\n",
            "Epoch 11/50\n",
            "\u001b[1m2061/2061\u001b[0m \u001b[32m━━━━━━━━━━━━━━━━━━━━\u001b[0m\u001b[37m\u001b[0m \u001b[1m32s\u001b[0m 16ms/step - accuracy: 0.3384 - loss: 3.4748 - val_accuracy: 0.1798 - val_loss: 6.4715\n",
            "Epoch 12/50\n",
            "\u001b[1m2061/2061\u001b[0m \u001b[32m━━━━━━━━━━━━━━━━━━━━\u001b[0m\u001b[37m\u001b[0m \u001b[1m42s\u001b[0m 16ms/step - accuracy: 0.3646 - loss: 3.2886 - val_accuracy: 0.1881 - val_loss: 6.5138\n",
            "Epoch 13/50\n",
            "\u001b[1m2061/2061\u001b[0m \u001b[32m━━━━━━━━━━━━━━━━━━━━\u001b[0m\u001b[37m\u001b[0m \u001b[1m43s\u001b[0m 17ms/step - accuracy: 0.3925 - loss: 3.0998 - val_accuracy: 0.1910 - val_loss: 6.5846\n",
            "Epoch 14/50\n",
            "\u001b[1m2061/2061\u001b[0m \u001b[32m━━━━━━━━━━━━━━━━━━━━\u001b[0m\u001b[37m\u001b[0m \u001b[1m40s\u001b[0m 17ms/step - accuracy: 0.4221 - loss: 2.9268 - val_accuracy: 0.1932 - val_loss: 6.6441\n",
            "Epoch 15/50\n",
            "\u001b[1m2061/2061\u001b[0m \u001b[32m━━━━━━━━━━━━━━━━━━━━\u001b[0m\u001b[37m\u001b[0m \u001b[1m40s\u001b[0m 16ms/step - accuracy: 0.4470 - loss: 2.7914 - val_accuracy: 0.1987 - val_loss: 6.7303\n",
            "Epoch 16/50\n",
            "\u001b[1m2061/2061\u001b[0m \u001b[32m━━━━━━━━━━━━━━━━━━━━\u001b[0m\u001b[37m\u001b[0m \u001b[1m42s\u001b[0m 17ms/step - accuracy: 0.4704 - loss: 2.6434 - val_accuracy: 0.2028 - val_loss: 6.8026\n",
            "Epoch 17/50\n",
            "\u001b[1m2061/2061\u001b[0m \u001b[32m━━━━━━━━━━━━━━━━━━━━\u001b[0m\u001b[37m\u001b[0m \u001b[1m39s\u001b[0m 16ms/step - accuracy: 0.4945 - loss: 2.5137 - val_accuracy: 0.2046 - val_loss: 6.8709\n",
            "Epoch 18/50\n",
            "\u001b[1m2061/2061\u001b[0m \u001b[32m━━━━━━━━━━━━━━━━━━━━\u001b[0m\u001b[37m\u001b[0m \u001b[1m35s\u001b[0m 17ms/step - accuracy: 0.5133 - loss: 2.4057 - val_accuracy: 0.2065 - val_loss: 6.9561\n",
            "Epoch 19/50\n",
            "\u001b[1m2061/2061\u001b[0m \u001b[32m━━━━━━━━━━━━━━━━━━━━\u001b[0m\u001b[37m\u001b[0m \u001b[1m41s\u001b[0m 17ms/step - accuracy: 0.5288 - loss: 2.3093 - val_accuracy: 0.2102 - val_loss: 7.0139\n",
            "Epoch 20/50\n",
            "\u001b[1m2061/2061\u001b[0m \u001b[32m━━━━━━━━━━━━━━━━━━━━\u001b[0m\u001b[37m\u001b[0m \u001b[1m40s\u001b[0m 17ms/step - accuracy: 0.5521 - loss: 2.2022 - val_accuracy: 0.2108 - val_loss: 7.0921\n",
            "Epoch 21/50\n",
            "\u001b[1m2061/2061\u001b[0m \u001b[32m━━━━━━━━━━━━━━━━━━━━\u001b[0m\u001b[37m\u001b[0m \u001b[1m34s\u001b[0m 17ms/step - accuracy: 0.5675 - loss: 2.1085 - val_accuracy: 0.2122 - val_loss: 7.1578\n",
            "Epoch 22/50\n",
            "\u001b[1m2061/2061\u001b[0m \u001b[32m━━━━━━━━━━━━━━━━━━━━\u001b[0m\u001b[37m\u001b[0m \u001b[1m41s\u001b[0m 17ms/step - accuracy: 0.5783 - loss: 2.0339 - val_accuracy: 0.2112 - val_loss: 7.2326\n",
            "Epoch 23/50\n",
            "\u001b[1m2061/2061\u001b[0m \u001b[32m━━━━━━━━━━━━━━━━━━━━\u001b[0m\u001b[37m\u001b[0m \u001b[1m42s\u001b[0m 17ms/step - accuracy: 0.5944 - loss: 1.9471 - val_accuracy: 0.2134 - val_loss: 7.3132\n",
            "Epoch 24/50\n",
            "\u001b[1m2061/2061\u001b[0m \u001b[32m━━━━━━━━━━━━━━━━━━━━\u001b[0m\u001b[37m\u001b[0m \u001b[1m40s\u001b[0m 17ms/step - accuracy: 0.6116 - loss: 1.8620 - val_accuracy: 0.2149 - val_loss: 7.3895\n",
            "Epoch 25/50\n",
            "\u001b[1m2061/2061\u001b[0m \u001b[32m━━━━━━━━━━━━━━━━━━━━\u001b[0m\u001b[37m\u001b[0m \u001b[1m40s\u001b[0m 16ms/step - accuracy: 0.6214 - loss: 1.8051 - val_accuracy: 0.2150 - val_loss: 7.4753\n",
            "Epoch 26/50\n",
            "\u001b[1m2061/2061\u001b[0m \u001b[32m━━━━━━━━━━━━━━━━━━━━\u001b[0m\u001b[37m\u001b[0m \u001b[1m36s\u001b[0m 17ms/step - accuracy: 0.6334 - loss: 1.7544 - val_accuracy: 0.2190 - val_loss: 7.5292\n",
            "Epoch 27/50\n",
            "\u001b[1m2061/2061\u001b[0m \u001b[32m━━━━━━━━━━━━━━━━━━━━\u001b[0m\u001b[37m\u001b[0m \u001b[1m40s\u001b[0m 17ms/step - accuracy: 0.6444 - loss: 1.6948 - val_accuracy: 0.2180 - val_loss: 7.6171\n",
            "Epoch 28/50\n",
            "\u001b[1m2061/2061\u001b[0m \u001b[32m━━━━━━━━━━━━━━━━━━━━\u001b[0m\u001b[37m\u001b[0m \u001b[1m36s\u001b[0m 17ms/step - accuracy: 0.6583 - loss: 1.6204 - val_accuracy: 0.2201 - val_loss: 7.6998\n",
            "Epoch 29/50\n",
            "\u001b[1m2061/2061\u001b[0m \u001b[32m━━━━━━━━━━━━━━━━━━━━\u001b[0m\u001b[37m\u001b[0m \u001b[1m40s\u001b[0m 17ms/step - accuracy: 0.6701 - loss: 1.5627 - val_accuracy: 0.2200 - val_loss: 7.7746\n",
            "Epoch 30/50\n",
            "\u001b[1m2061/2061\u001b[0m \u001b[32m━━━━━━━━━━━━━━━━━━━━\u001b[0m\u001b[37m\u001b[0m \u001b[1m41s\u001b[0m 20ms/step - accuracy: 0.6730 - loss: 1.5272 - val_accuracy: 0.2210 - val_loss: 7.8471\n",
            "Epoch 31/50\n",
            "\u001b[1m2061/2061\u001b[0m \u001b[32m━━━━━━━━━━━━━━━━━━━━\u001b[0m\u001b[37m\u001b[0m \u001b[1m75s\u001b[0m 17ms/step - accuracy: 0.6868 - loss: 1.4734 - val_accuracy: 0.2183 - val_loss: 7.9349\n",
            "Epoch 32/50\n",
            "\u001b[1m2061/2061\u001b[0m \u001b[32m━━━━━━━━━━━━━━━━━━━━\u001b[0m\u001b[37m\u001b[0m \u001b[1m42s\u001b[0m 17ms/step - accuracy: 0.6943 - loss: 1.4183 - val_accuracy: 0.2200 - val_loss: 8.0057\n",
            "Epoch 33/50\n",
            "\u001b[1m2061/2061\u001b[0m \u001b[32m━━━━━━━━━━━━━━━━━━━━\u001b[0m\u001b[37m\u001b[0m \u001b[1m41s\u001b[0m 17ms/step - accuracy: 0.6991 - loss: 1.3942 - val_accuracy: 0.2196 - val_loss: 8.0845\n",
            "Epoch 34/50\n",
            "\u001b[1m2061/2061\u001b[0m \u001b[32m━━━━━━━━━━━━━━━━━━━━\u001b[0m\u001b[37m\u001b[0m \u001b[1m40s\u001b[0m 16ms/step - accuracy: 0.7080 - loss: 1.3623 - val_accuracy: 0.2234 - val_loss: 8.1686\n",
            "Epoch 35/50\n",
            "\u001b[1m2061/2061\u001b[0m \u001b[32m━━━━━━━━━━━━━━━━━━━━\u001b[0m\u001b[37m\u001b[0m \u001b[1m41s\u001b[0m 17ms/step - accuracy: 0.7222 - loss: 1.2975 - val_accuracy: 0.2220 - val_loss: 8.2475\n",
            "Epoch 36/50\n",
            "\u001b[1m2061/2061\u001b[0m \u001b[32m━━━━━━━━━━━━━━━━━━━━\u001b[0m\u001b[37m\u001b[0m \u001b[1m43s\u001b[0m 18ms/step - accuracy: 0.7240 - loss: 1.2817 - val_accuracy: 0.2222 - val_loss: 8.2911\n",
            "Epoch 37/50\n",
            "\u001b[1m2061/2061\u001b[0m \u001b[32m━━━━━━━━━━━━━━━━━━━━\u001b[0m\u001b[37m\u001b[0m \u001b[1m41s\u001b[0m 18ms/step - accuracy: 0.7304 - loss: 1.2420 - val_accuracy: 0.2211 - val_loss: 8.4009\n",
            "Epoch 38/50\n",
            "\u001b[1m2061/2061\u001b[0m \u001b[32m━━━━━━━━━━━━━━━━━━━━\u001b[0m\u001b[37m\u001b[0m \u001b[1m41s\u001b[0m 17ms/step - accuracy: 0.7386 - loss: 1.2038 - val_accuracy: 0.2198 - val_loss: 8.4709\n",
            "Epoch 39/50\n",
            "\u001b[1m2061/2061\u001b[0m \u001b[32m━━━━━━━━━━━━━━━━━━━━\u001b[0m\u001b[37m\u001b[0m \u001b[1m39s\u001b[0m 17ms/step - accuracy: 0.7451 - loss: 1.1723 - val_accuracy: 0.2245 - val_loss: 8.5473\n",
            "Epoch 40/50\n",
            "\u001b[1m2061/2061\u001b[0m \u001b[32m━━━━━━━━━━━━━━━━━━━━\u001b[0m\u001b[37m\u001b[0m \u001b[1m43s\u001b[0m 17ms/step - accuracy: 0.7538 - loss: 1.1437 - val_accuracy: 0.2220 - val_loss: 8.6368\n",
            "Epoch 41/50\n",
            "\u001b[1m2061/2061\u001b[0m \u001b[32m━━━━━━━━━━━━━━━━━━━━\u001b[0m\u001b[37m\u001b[0m \u001b[1m42s\u001b[0m 18ms/step - accuracy: 0.7580 - loss: 1.1190 - val_accuracy: 0.2215 - val_loss: 8.6918\n",
            "Epoch 42/50\n",
            "\u001b[1m2061/2061\u001b[0m \u001b[32m━━━━━━━━━━━━━━━━━━━━\u001b[0m\u001b[37m\u001b[0m \u001b[1m39s\u001b[0m 17ms/step - accuracy: 0.7621 - loss: 1.0961 - val_accuracy: 0.2219 - val_loss: 8.7398\n",
            "Epoch 43/50\n",
            "\u001b[1m2061/2061\u001b[0m \u001b[32m━━━━━━━━━━━━━━━━━━━━\u001b[0m\u001b[37m\u001b[0m \u001b[1m42s\u001b[0m 17ms/step - accuracy: 0.7666 - loss: 1.0651 - val_accuracy: 0.2225 - val_loss: 8.8355\n",
            "Epoch 44/50\n",
            "\u001b[1m2061/2061\u001b[0m \u001b[32m━━━━━━━━━━━━━━━━━━━━\u001b[0m\u001b[37m\u001b[0m \u001b[1m35s\u001b[0m 17ms/step - accuracy: 0.7706 - loss: 1.0480 - val_accuracy: 0.2223 - val_loss: 8.9064\n",
            "Epoch 45/50\n",
            "\u001b[1m2061/2061\u001b[0m \u001b[32m━━━━━━━━━━━━━━━━━━━━\u001b[0m\u001b[37m\u001b[0m \u001b[1m36s\u001b[0m 17ms/step - accuracy: 0.7764 - loss: 1.0198 - val_accuracy: 0.2241 - val_loss: 8.9925\n",
            "Epoch 46/50\n",
            "\u001b[1m2061/2061\u001b[0m \u001b[32m━━━━━━━━━━━━━━━━━━━━\u001b[0m\u001b[37m\u001b[0m \u001b[1m41s\u001b[0m 17ms/step - accuracy: 0.7788 - loss: 1.0053 - val_accuracy: 0.2233 - val_loss: 9.0638\n",
            "Epoch 47/50\n",
            "\u001b[1m2061/2061\u001b[0m \u001b[32m━━━━━━━━━━━━━━━━━━━━\u001b[0m\u001b[37m\u001b[0m \u001b[1m42s\u001b[0m 18ms/step - accuracy: 0.7858 - loss: 0.9835 - val_accuracy: 0.2236 - val_loss: 9.1189\n",
            "Epoch 48/50\n",
            "\u001b[1m2061/2061\u001b[0m \u001b[32m━━━━━━━━━━━━━━━━━━━━\u001b[0m\u001b[37m\u001b[0m \u001b[1m37s\u001b[0m 18ms/step - accuracy: 0.7928 - loss: 0.9387 - val_accuracy: 0.2250 - val_loss: 9.1939\n",
            "Epoch 49/50\n",
            "\u001b[1m2061/2061\u001b[0m \u001b[32m━━━━━━━━━━━━━━━━━━━━\u001b[0m\u001b[37m\u001b[0m \u001b[1m35s\u001b[0m 17ms/step - accuracy: 0.7920 - loss: 0.9385 - val_accuracy: 0.2241 - val_loss: 9.2444\n",
            "Epoch 50/50\n",
            "\u001b[1m2061/2061\u001b[0m \u001b[32m━━━━━━━━━━━━━━━━━━━━\u001b[0m\u001b[37m\u001b[0m \u001b[1m43s\u001b[0m 18ms/step - accuracy: 0.7970 - loss: 0.9164 - val_accuracy: 0.2239 - val_loss: 9.3256\n"
          ]
        }
      ],
      "source": [
        "# Train model with validation split\n",
        "\n",
        "history = model.fit(\n",
        "    X, y,\n",
        "    epochs=50,\n",
        "    verbose=1,\n",
        "    validation_split=0.2  # 20% validation set\n",
        ")"
      ]
    },
    {
      "cell_type": "code",
      "execution_count": null,
      "metadata": {
        "colab": {
          "base_uri": "https://localhost:8080/",
          "height": 507
        },
        "id": "6rARakhmSB0J",
        "outputId": "0af379b7-8800-4f07-f2c0-d0aa9b0e56e5"
      },
      "outputs": [
        {
          "data": {
            "image/png": "[encoded data removed]",
            "text/plain": [
              "<Figure size 1200x500 with 2 Axes>"
            ]
          },
          "metadata": {},
          "output_type": "display_data"
        }
      ],
      "source": [
        "# Plot Accuracy & Loss\n",
        "\n",
        "plt.figure(figsize=(12, 5))\n",
        "\n",
        "# --- Accuracy ---\n",
        "plt.subplot(1, 2, 1)\n",
        "plt.plot(history.history['accuracy'], label='Train Accuracy', linewidth=2)\n",
        "plt.plot(history.history['val_accuracy'], label='Val Accuracy', linewidth=2, linestyle='--')\n",
        "plt.xlabel('Epochs')\n",
        "plt.ylabel('Accuracy')\n",
        "plt.title('Training & Validation Accuracy')\n",
        "plt.legend()\n",
        "plt.grid(True, linestyle='--', alpha=0.7)\n",
        "\n",
        "# --- Loss ---\n",
        "plt.subplot(1, 2, 2)\n",
        "plt.plot(history.history['loss'], label='Train Loss', color='red', linewidth=2)\n",
        "plt.plot(history.history['val_loss'], label='Val Loss', color='orange', linewidth=2, linestyle='--')\n",
        "plt.xlabel('Epochs')\n",
        "plt.ylabel('Loss')\n",
        "plt.title('Training & Validation Loss')\n",
        "plt.legend()\n",
        "plt.grid(True, linestyle='--', alpha=0.7)\n",
        "\n",
        "plt.tight_layout()\n",
        "plt.show()"
      ]
    },
    {
      "cell_type": "code",
      "execution_count": null,
      "metadata": {
        "id": "CNdJecIxSBwA"
      },
      "outputs": [],
      "source": [
        "# 7. Prediction function\n",
        "\n",
        "def predict_next_word(seed_text, next_words):\n",
        "    for _ in range(next_words):\n",
        "        token_list = tokenizer.texts_to_sequences([seed_text])[0]\n",
        "        token_list = pad_sequences([token_list], maxlen=max_seq_len-1, padding='pre')\n",
        "        predicted = np.argmax(model.predict(token_list, verbose=0), axis=-1)\n",
        "        for word, index in tokenizer.word_index.items():\n",
        "            if index == predicted:\n",
        "                seed_text += \" \" + word\n",
        "                break\n",
        "    return seed_text\n",
        "\n"
      ]
    },
    {
      "cell_type": "code",
      "execution_count": null,
      "metadata": {
        "colab": {
          "base_uri": "https://localhost:8080/"
        },
        "id": "z4AXx1OMSBtD",
        "outputId": "1096eafe-a50b-4e60-fce7-b4c47b8b4e26"
      },
      "outputs": [
        {
          "name": "stdout",
          "output_type": "stream",
          "text": [
            "Input: 'i am not able' -> Prediction: 'i am not able to'\n",
            "Input: 'please help me' -> Prediction: 'please help me from'\n",
            "Input: 'how can i' -> Prediction: 'how can i think'\n",
            "Input: 'i cannot login' -> Prediction: 'i cannot login you'\n",
            "Input: 'my account is' -> Prediction: 'my account is not'\n"
          ]
        }
      ],
      "source": [
        "test_sentences = [\n",
        "    \"i am not able\",\n",
        "    \"please help me\",\n",
        "    \"how can i\",\n",
        "    \"i cannot login\",\n",
        "    \"my account is\"\n",
        "]\n",
        "\n",
        "for sentence in test_sentences:\n",
        "    print(f\"Input: '{sentence}' -> Prediction: '{predict_next_word(sentence, 1)}'\")\n"
      ]
    },
    {
      "cell_type": "code",
      "execution_count": null,
      "metadata": {
        "colab": {
          "base_uri": "https://localhost:8080/",
          "height": 468
        },
        "id": "zpCCRtiqSBpj",
        "outputId": "c57cda64-8eb3-41a4-e602-b1010279c7ab"
      },
      "outputs": [
        {
          "data": {
            "image/png": "[encoded data removed]",
            "text/plain": [
              "<Figure size 1000x500 with 1 Axes>"
            ]
          },
          "metadata": {},
          "output_type": "display_data"
        }
      ],
      "source": [
        "from collections import Counter\n",
        "import seaborn as sns\n",
        "\n",
        "all_words = \" \".join(df['text']).split()\n",
        "word_counts = Counter(all_words)\n",
        "top_words = word_counts.most_common(20)\n",
        "\n",
        "words, counts = zip(*top_words)\n",
        "plt.figure(figsize=(10,5))\n",
        "sns.barplot(x=list(counts), y=list(words))\n",
        "plt.title(\"Top 20 Most Frequent Words in Dataset\")\n",
        "plt.show()\n"
      ]
    },
    {
      "cell_type": "markdown",
      "metadata": {
        "id": "eNosw7Fc0Bo_"
      },
      "source": [
        "**Program #2:** Predicting Hit Songs using LSTM\n",
        "A music streaming company wants to predict whether a newly released song will\n",
        "become a hit based on its first few weeks of streaming data. Early prediction helps\n",
        "the marketing team decide which songs to promote heavily.\n",
        "You are required to build an LSTM-based prediction model to forecast if a song will\n",
        "reach Top 50 in the charts within the next month.\n",
        "\n",
        "Use any music streaming dataset.Ex:Spotify Charts dataset from\n",
        "Kaggle or a synthetic dataset you create."
      ]
    },
    {
      "cell_type": "code",
      "execution_count": null,
      "metadata": {
        "colab": {
          "base_uri": "https://localhost:8080/",
          "height": 73
        },
        "id": "AmdzSbi50ZZ3",
        "outputId": "d47430a1-f260-4f13-f62d-8b32d9988aa8"
      },
      "outputs": [
        {
          "data": {
            "text/html": [
              "\n",
              "     <input type=\"file\" id=\"files-8684bda2-2995-401d-a8e1-e4e88a261645\" name=\"files[]\" multiple disabled\n",
              "        style=\"border:none\" />\n",
              "     <output id=\"result-8684bda2-2995-401d-a8e1-e4e88a261645\">\n",
              "      Upload widget is only available when the cell has been executed in the\n",
              "      current browser session. Please rerun this cell to enable.\n",
              "      </output>\n",
              "      <script>// Copyright 2017 Google LLC\n",
              "//\n",
              "// Licensed under the Apache License, Version 2.0 (the \"License\");\n",
              "// you may not use this file except in compliance with the License.\n",
              "// You may obtain a copy of the License at\n",
              "//\n",
              "//      http://www.apache.org/licenses/LICENSE-2.0\n",
              "//\n",
              "// Unless required by applicable law or agreed to in writing, software\n",
              "// distributed under the License is distributed on an \"AS IS\" BASIS,\n",
              "// WITHOUT WARRANTIES OR CONDITIONS OF ANY KIND, either express or implied.\n",
              "// See the License for the specific language governing permissions and\n",
              "// limitations under the License.\n",
              "\n",
              "/**\n",
              " * @fileoverview Helpers for google.colab Python module.\n",
              " */\n",
              "(function(scope) {\n",
              "function span(text, styleAttributes = {}) {\n",
              "  const element = document.createElement('span');\n",
              "  element.textContent = text;\n",
              "  for (const key of Object.keys(styleAttributes)) {\n",
              "    element.style[key] = styleAttributes[key];\n",
              "  }\n",
              "  return element;\n",
              "}\n",
              "\n",
              "// Max number of bytes which will be uploaded at a time.\n",
              "const MAX_PAYLOAD_SIZE = 100 * 1024;\n",
              "\n",
              "function _uploadFiles(inputId, outputId) {\n",
              "  const steps = uploadFilesStep(inputId, outputId);\n",
              "  const outputElement = document.getElementById(outputId);\n",
              "  // Cache steps on the outputElement to make it available for the next call\n",
              "  // to uploadFilesContinue from Python.\n",
              "  outputElement.steps = steps;\n",
              "\n",
              "  return _uploadFilesContinue(outputId);\n",
              "}\n",
              "\n",
              "// This is roughly an async generator (not supported in the browser yet),\n",
              "// where there are multiple asynchronous steps and the Python side is going\n",
              "// to poll for completion of each step.\n",
              "// This uses a Promise to block the python side on completion of each step,\n",
              "// then passes the result of the previous step as the input to the next step.\n",
              "function _uploadFilesContinue(outputId) {\n",
              "  const outputElement = document.getElementById(outputId);\n",
              "  const steps = outputElement.steps;\n",
              "\n",
              "  const next = steps.next(outputElement.lastPromiseValue);\n",
              "  return Promise.resolve(next.value.promise).then((value) => {\n",
              "    // Cache the last promise value to make it available to the next\n",
              "    // step of the generator.\n",
              "    outputElement.lastPromiseValue = value;\n",
              "    return next.value.response;\n",
              "  });\n",
              "}\n",
              "\n",
              "/**\n",
              " * Generator function which is called between each async step of the upload\n",
              " * process.\n",
              " * @param {string} inputId Element ID of the input file picker element.\n",
              " * @param {string} outputId Element ID of the output display.\n",
              " * @return {!Iterable<!Object>} Iterable of next steps.\n",
              " */\n",
              "function* uploadFilesStep(inputId, outputId) {\n",
              "  const inputElement = document.getElementById(inputId);\n",
              "  inputElement.disabled = false;\n",
              "\n",
              "  const outputElement = document.getElementById(outputId);\n",
              "  outputElement.innerHTML = '';\n",
              "\n",
              "  const pickedPromise = new Promise((resolve) => {\n",
              "    inputElement.addEventListener('change', (e) => {\n",
              "      resolve(e.target.files);\n",
              "    });\n",
              "  });\n",
              "\n",
              "  const cancel = document.createElement('button');\n",
              "  inputElement.parentElement.appendChild(cancel);\n",
              "  cancel.textContent = 'Cancel upload';\n",
              "  const cancelPromise = new Promise((resolve) => {\n",
              "    cancel.onclick = () => {\n",
              "      resolve(null);\n",
              "    };\n",
              "  });\n",
              "\n",
              "  // Wait for the user to pick the files.\n",
              "  const files = yield {\n",
              "    promise: Promise.race([pickedPromise, cancelPromise]),\n",
              "    response: {\n",
              "      action: 'starting',\n",
              "    }\n",
              "  };\n",
              "\n",
              "  cancel.remove();\n",
              "\n",
              "  // Disable the input element since further picks are not allowed.\n",
              "  inputElement.disabled = true;\n",
              "\n",
              "  if (!files) {\n",
              "    return {\n",
              "      response: {\n",
              "        action: 'complete',\n",
              "      }\n",
              "    };\n",
              "  }\n",
              "\n",
              "  for (const file of files) {\n",
              "    const li = document.createElement('li');\n",
              "    li.append(span(file.name, {fontWeight: 'bold'}));\n",
              "    li.append(span(\n",
              "        `(${file.type || 'n/a'}) - ${file.size} bytes, ` +\n",
              "        `last modified: ${\n",
              "            file.lastModifiedDate ? file.lastModifiedDate.toLocaleDateString() :\n",
              "                                    'n/a'} - `));\n",
              "    const percent = span('0% done');\n",
              "    li.appendChild(percent);\n",
              "\n",
              "    outputElement.appendChild(li);\n",
              "\n",
              "    const fileDataPromise = new Promise((resolve) => {\n",
              "      const reader = new FileReader();\n",
              "      reader.onload = (e) => {\n",
              "        resolve(e.target.result);\n",
              "      };\n",
              "      reader.readAsArrayBuffer(file);\n",
              "    });\n",
              "    // Wait for the data to be ready.\n",
              "    let fileData = yield {\n",
              "      promise: fileDataPromise,\n",
              "      response: {\n",
              "        action: 'continue',\n",
              "      }\n",
              "    };\n",
              "\n",
              "    // Use a chunked sending to avoid message size limits. See b/62115660.\n",
              "    let position = 0;\n",
              "    do {\n",
              "      const length = Math.min(fileData.byteLength - position, MAX_PAYLOAD_SIZE);\n",
              "      const chunk = new Uint8Array(fileData, position, length);\n",
              "      position += length;\n",
              "\n",
              "      const base64 = btoa(String.fromCharCode.apply(null, chunk));\n",
              "      yield {\n",
              "        response: {\n",
              "          action: 'append',\n",
              "          file: file.name,\n",
              "          data: base64,\n",
              "        },\n",
              "      };\n",
              "\n",
              "      let percentDone = fileData.byteLength === 0 ?\n",
              "          100 :\n",
              "          Math.round((position / fileData.byteLength) * 100);\n",
              "      percent.textContent = `${percentDone}% done`;\n",
              "\n",
              "    } while (position < fileData.byteLength);\n",
              "  }\n",
              "\n",
              "  // All done.\n",
              "  yield {\n",
              "    response: {\n",
              "      action: 'complete',\n",
              "    }\n",
              "  };\n",
              "}\n",
              "\n",
              "scope.google = scope.google || {};\n",
              "scope.google.colab = scope.google.colab || {};\n",
              "scope.google.colab._files = {\n",
              "  _uploadFiles,\n",
              "  _uploadFilesContinue,\n",
              "};\n",
              "})(self);\n",
              "</script> "
            ],
            "text/plain": [
              "<IPython.core.display.HTML object>"
            ]
          },
          "metadata": {},
          "output_type": "display_data"
        },
        {
          "name": "stdout",
          "output_type": "stream",
          "text": [
            "Saving kaggle.json to kaggle (8).json\n"
          ]
        }
      ],
      "source": [
        "# Install Kaggle API\n",
        "!pip install kaggle --quiet\n",
        "\n",
        "# Upload your kaggle.json (from https://www.kaggle.com/account)\n",
        "from google.colab import files\n",
        "files.upload()\n",
        "\n",
        "# Move it to ~/.kaggle\n",
        "!mkdir -p ~/.kaggle\n",
        "!cp kaggle.json ~/.kaggle/\n",
        "!chmod 600 ~/.kaggle/kaggle.json"
      ]
    },
    {
      "cell_type": "code",
      "execution_count": null,
      "metadata": {
        "colab": {
          "base_uri": "https://localhost:8080/"
        },
        "id": "eWNHBKtLzIm-",
        "outputId": "1e9a7a87-5f4b-4c67-b224-bd4184dea807"
      },
      "outputs": [
        {
          "name": "stdout",
          "output_type": "stream",
          "text": [
            "Dataset URL: https://www.kaggle.com/datasets/dhruvildave/spotify-charts\n",
            "License(s): ODbL-1.0\n",
            "Downloading spotify-charts.zip to /content\n",
            " 96% 910M/945M [00:04<00:00, 243MB/s]\n",
            "100% 945M/945M [00:04<00:00, 227MB/s]\n",
            "Archive:  spotify-charts.zip\n",
            "  inflating: spotify_data/charts.csv  \n"
          ]
        }
      ],
      "source": [
        "# Download Spotify Daily Top 200\n",
        "!kaggle datasets download -d dhruvildave/spotify-charts\n",
        "\n",
        "# Unzip\n",
        "!unzip spotify-charts.zip -d spotify_data\n"
      ]
    },
    {
      "cell_type": "code",
      "execution_count": null,
      "metadata": {
        "colab": {
          "base_uri": "https://localhost:8080/"
        },
        "id": "0tq-1O6qzLTs",
        "outputId": "cd923603-efd0-4cec-f71e-1448d5050a01"
      },
      "outputs": [
        {
          "name": "stdout",
          "output_type": "stream",
          "text": [
            "Index(['title', 'rank', 'date', 'artist', 'url', 'region', 'chart', 'trend',\n",
            "       'streams'],\n",
            "      dtype='object')\n",
            "                         title  rank        date  \\\n",
            "0      Chantaje (feat. Maluma)     1  2017-01-01   \n",
            "1  Vente Pa' Ca (feat. Maluma)     2  2017-01-01   \n",
            "2   Reggaetón Lento (Bailemos)     3  2017-01-01   \n",
            "3                       Safari     4  2017-01-01   \n",
            "4                  Shaky Shaky     5  2017-01-01   \n",
            "\n",
            "                                  artist  \\\n",
            "0                                Shakira   \n",
            "1                           Ricky Martin   \n",
            "2                                   CNCO   \n",
            "3  J Balvin, Pharrell Williams, BIA, Sky   \n",
            "4                           Daddy Yankee   \n",
            "\n",
            "                                                 url     region   chart  \\\n",
            "0  https://open.spotify.com/track/6mICuAdrwEjh6Y6...  Argentina  top200   \n",
            "1  https://open.spotify.com/track/7DM4BPaS7uofFul...  Argentina  top200   \n",
            "2  https://open.spotify.com/track/3AEZUABDXNtecAO...  Argentina  top200   \n",
            "3  https://open.spotify.com/track/6rQSrBHf7HlZjtc...  Argentina  top200   \n",
            "4  https://open.spotify.com/track/58IL315gMSTD37D...  Argentina  top200   \n",
            "\n",
            "           trend  streams  \n",
            "0  SAME_POSITION   253019  \n",
            "1        MOVE_UP   223988  \n",
            "2      MOVE_DOWN   210943  \n",
            "3  SAME_POSITION   173865  \n",
            "4        MOVE_UP   153956  \n"
          ]
        }
      ],
      "source": [
        "import pandas as pd\n",
        "\n",
        "df = pd.read_csv(\"spotify_data/charts.csv\", nrows=5)\n",
        "print(df.columns)\n",
        "print(df.head())"
      ]
    },
    {
      "cell_type": "code",
      "execution_count": null,
      "metadata": {
        "id": "0fJ85lnk0gau"
      },
      "outputs": [],
      "source": [
        "import pandas as pd\n",
        "import numpy as np\n",
        "from datetime import timedelta\n",
        "from sklearn.model_selection import train_test_split\n",
        "from sklearn.preprocessing import MinMaxScaler\n",
        "from sklearn.metrics import classification_report, confusion_matrix\n",
        "from tensorflow.keras.models import Sequential\n",
        "from tensorflow.keras.layers import LSTM, Dense, Dropout\n",
        "from tensorflow.keras.optimizers import Adam\n",
        "import matplotlib.pyplot as plt\n"
      ]
    },
    {
      "cell_type": "code",
      "execution_count": null,
      "metadata": {
        "colab": {
          "base_uri": "https://localhost:8080/"
        },
        "id": "VtrwoLeS0iIC",
        "outputId": "4b569044-04ff-48b2-b46a-68415296965c"
      },
      "outputs": [
        {
          "name": "stdout",
          "output_type": "stream",
          "text": [
            "Loading and preprocessing data...\n",
            "Total records: 20321897\n"
          ]
        }
      ],
      "source": [
        "# Load the data\n",
        "print(\"Loading and preprocessing data...\")\n",
        "df = pd.read_csv(\"spotify_data/charts.csv\")\n",
        "\n",
        "# Keep only relevant columns\n",
        "df = df[['title', 'date', 'rank', 'streams', 'artist']]\n",
        "\n",
        "# Convert date and clean data\n",
        "df['date'] = pd.to_datetime(df['date'], errors='coerce')\n",
        "df = df.dropna(subset=['title', 'date', 'rank', 'streams'])\n",
        "df['rank'] = df['rank'].astype(int)\n",
        "df['streams'] = df['streams'].astype(int)\n",
        "\n",
        "# Sort by title and date\n",
        "df = df.sort_values(['title', 'date'])\n",
        "\n",
        "print(f\"Total records: {len(df)}\")"
      ]
    },
    {
      "cell_type": "code",
      "execution_count": null,
      "metadata": {
        "id": "k-F2Oz0b1KEo"
      },
      "outputs": [],
      "source": [
        "# Create a proper temporal prediction setup\n",
        "def create_hit_prediction_data(df, lookback_days=7, prediction_window=21):\n",
        "    \"\"\"\n",
        "    Create data for predicting hits based on early performance\n",
        "\n",
        "    Args:\n",
        "    - lookback_days: Number of initial days to use as input features\n",
        "    - prediction_window: Number of days ahead to check for hit status\n",
        "    \"\"\"\n",
        "\n",
        "    songs_data = []\n",
        "\n",
        "    for title, group in df.groupby('title'):\n",
        "        group = group.sort_values('date').reset_index(drop=True)\n",
        "\n",
        "        # Need at least lookback_days + prediction_window days of data\n",
        "        if len(group) < lookback_days + prediction_window:\n",
        "            continue\n",
        "\n",
        "        # Extract features from first lookback_days\n",
        "        early_streams = group['streams'].head(lookback_days).values\n",
        "        early_ranks = group['rank'].head(lookback_days).values\n",
        "\n",
        "        # Determine if song becomes a hit in the prediction window\n",
        "        future_ranks = group['rank'].iloc[lookback_days:lookback_days+prediction_window]\n",
        "        is_hit = (future_ranks <= 50).any()  # Hit if reaches top 50 in prediction window\n",
        "\n",
        "        # Create additional features\n",
        "        avg_early_streams = np.mean(early_streams)\n",
        "        max_early_streams = np.max(early_streams)\n",
        "        min_early_rank = np.min(early_ranks)\n",
        "        stream_trend = np.polyfit(range(len(early_streams)), early_streams, 1)[0]  # Linear trend\n",
        "\n",
        "        # Combine features\n",
        "        features = np.concatenate([\n",
        "            early_streams,  # Raw daily streams\n",
        "            early_ranks,    # Raw daily ranks\n",
        "            [avg_early_streams, max_early_streams, min_early_rank, stream_trend]  # Engineered features\n",
        "        ])\n",
        "\n",
        "        songs_data.append({\n",
        "            'title': title,\n",
        "            'artist': group['artist'].iloc[0],\n",
        "            'features': features,\n",
        "            'is_hit': int(is_hit),\n",
        "            'early_streams': early_streams,\n",
        "            'early_ranks': early_ranks\n",
        "        })\n",
        "\n",
        "    return songs_data"
      ]
    },
    {
      "cell_type": "code",
      "execution_count": null,
      "metadata": {
        "colab": {
          "base_uri": "https://localhost:8080/"
        },
        "id": "mt_pBJ1Rvlln",
        "outputId": "fbd62f03-43a1-48e0-8998-8625489f5522"
      },
      "outputs": [
        {
          "name": "stdout",
          "output_type": "stream",
          "text": [
            "Creating temporal prediction dataset...\n",
            "Songs with sufficient data: 34971\n",
            "Feature matrix shape: (34971, 18)\n",
            "Target distribution - Hits: 18549, Non-hits: 16422\n",
            "Hit rate: 53.0%\n",
            "Sequence features shape: (34971, 7, 2)\n",
            "Static features shape: (34971, 4)\n"
          ]
        }
      ],
      "source": [
        "# Create the prediction dataset\n",
        "print(\"Creating temporal prediction dataset...\")\n",
        "songs_data = create_hit_prediction_data(df, lookback_days=7, prediction_window=21)\n",
        "print(f\"Songs with sufficient data: {len(songs_data)}\")\n",
        "\n",
        "# Convert to arrays\n",
        "X = np.array([song['features'] for song in songs_data])\n",
        "y = np.array([song['is_hit'] for song in songs_data])\n",
        "titles = [song['title'] for song in songs_data]\n",
        "\n",
        "print(f\"Feature matrix shape: {X.shape}\")\n",
        "print(f\"Target distribution - Hits: {np.sum(y)}, Non-hits: {len(y) - np.sum(y)}\")\n",
        "print(f\"Hit rate: {np.mean(y)*100:.1f}%\")\n",
        "\n",
        "# Scale features\n",
        "scaler = MinMaxScaler()\n",
        "X_scaled = scaler.fit_transform(X)\n",
        "\n",
        "# Reshape for LSTM: we'll use a sequence of the engineered features\n",
        "# For this example, we'll treat the daily streams and ranks as sequences\n",
        "lookback_days = 7\n",
        "sequence_features = 2  # streams and ranks for each day\n",
        "static_features = 4    # engineered features\n",
        "\n",
        "# Split the features\n",
        "X_sequences = X_scaled[:, :lookback_days*sequence_features].reshape(-1, lookback_days, sequence_features)\n",
        "X_static = X_scaled[:, lookback_days*sequence_features:]\n",
        "\n",
        "print(f\"Sequence features shape: {X_sequences.shape}\")\n",
        "print(f\"Static features shape: {X_static.shape}\")\n",
        "\n",
        "# Train/test split\n",
        "X_seq_train, X_seq_test, X_static_train, X_static_test, y_train, y_test = train_test_split(\n",
        "    X_sequences, X_static, y, test_size=0.2, random_state=42, stratify=y\n",
        ")"
      ]
    },
    {
      "cell_type": "code",
      "execution_count": null,
      "metadata": {
        "colab": {
          "base_uri": "https://localhost:8080/",
          "height": 1000
        },
        "id": "E0J0SoC-55fj",
        "outputId": "c659cb1d-e810-46ac-90bc-c8fe938da79b"
      },
      "outputs": [
        {
          "name": "stderr",
          "output_type": "stream",
          "text": [
            "/usr/local/lib/python3.11/dist-packages/keras/src/layers/rnn/rnn.py:199: UserWarning: Do not pass an `input_shape`/`input_dim` argument to a layer. When using Sequential models, prefer using an `Input(shape)` object as the first layer in the model instead.\n",
            "  super().__init__(**kwargs)\n"
          ]
        },
        {
          "name": "stdout",
          "output_type": "stream",
          "text": [
            "Model Summary:\n"
          ]
        },
        {
          "data": {
            "text/html": [
              "<pre style=\"white-space:pre;overflow-x:auto;line-height:normal;font-family:Menlo,'DejaVu Sans Mono',consolas,'Courier New',monospace\"><span style=\"font-weight: bold\">Model: \"sequential_6\"</span>\n",
              "</pre>\n"
            ],
            "text/plain": [
              "\u001b[1mModel: \"sequential_6\"\u001b[0m\n"
            ]
          },
          "metadata": {},
          "output_type": "display_data"
        },
        {
          "data": {
            "text/html": [
              "<pre style=\"white-space:pre;overflow-x:auto;line-height:normal;font-family:Menlo,'DejaVu Sans Mono',consolas,'Courier New',monospace\">┏━━━━━━━━━━━━━━━━━━━━━━━━━━━━━━━━━┳━━━━━━━━━━━━━━━━━━━━━━━━┳━━━━━━━━━━━━━━━┓\n",
              "┃<span style=\"font-weight: bold\"> Layer (type)                    </span>┃<span style=\"font-weight: bold\"> Output Shape           </span>┃<span style=\"font-weight: bold\">       Param # </span>┃\n",
              "┡━━━━━━━━━━━━━━━━━━━━━━━━━━━━━━━━━╇━━━━━━━━━━━━━━━━━━━━━━━━╇━━━━━━━━━━━━━━━┩\n",
              "│ lstm_6 (<span style=\"color: #0087ff; text-decoration-color: #0087ff\">LSTM</span>)                   │ (<span style=\"color: #00d7ff; text-decoration-color: #00d7ff\">None</span>, <span style=\"color: #00af00; text-decoration-color: #00af00\">64</span>)             │        <span style=\"color: #00af00; text-decoration-color: #00af00\">17,152</span> │\n",
              "├─────────────────────────────────┼────────────────────────┼───────────────┤\n",
              "│ dropout_5 (<span style=\"color: #0087ff; text-decoration-color: #0087ff\">Dropout</span>)             │ (<span style=\"color: #00d7ff; text-decoration-color: #00d7ff\">None</span>, <span style=\"color: #00af00; text-decoration-color: #00af00\">64</span>)             │             <span style=\"color: #00af00; text-decoration-color: #00af00\">0</span> │\n",
              "├─────────────────────────────────┼────────────────────────┼───────────────┤\n",
              "│ dense_6 (<span style=\"color: #0087ff; text-decoration-color: #0087ff\">Dense</span>)                 │ (<span style=\"color: #00d7ff; text-decoration-color: #00d7ff\">None</span>, <span style=\"color: #00af00; text-decoration-color: #00af00\">32</span>)             │         <span style=\"color: #00af00; text-decoration-color: #00af00\">2,080</span> │\n",
              "├─────────────────────────────────┼────────────────────────┼───────────────┤\n",
              "│ dropout_6 (<span style=\"color: #0087ff; text-decoration-color: #0087ff\">Dropout</span>)             │ (<span style=\"color: #00d7ff; text-decoration-color: #00d7ff\">None</span>, <span style=\"color: #00af00; text-decoration-color: #00af00\">32</span>)             │             <span style=\"color: #00af00; text-decoration-color: #00af00\">0</span> │\n",
              "├─────────────────────────────────┼────────────────────────┼───────────────┤\n",
              "│ dense_7 (<span style=\"color: #0087ff; text-decoration-color: #0087ff\">Dense</span>)                 │ (<span style=\"color: #00d7ff; text-decoration-color: #00d7ff\">None</span>, <span style=\"color: #00af00; text-decoration-color: #00af00\">16</span>)             │           <span style=\"color: #00af00; text-decoration-color: #00af00\">528</span> │\n",
              "├─────────────────────────────────┼────────────────────────┼───────────────┤\n",
              "│ dense_8 (<span style=\"color: #0087ff; text-decoration-color: #0087ff\">Dense</span>)                 │ (<span style=\"color: #00d7ff; text-decoration-color: #00d7ff\">None</span>, <span style=\"color: #00af00; text-decoration-color: #00af00\">1</span>)              │            <span style=\"color: #00af00; text-decoration-color: #00af00\">17</span> │\n",
              "└─────────────────────────────────┴────────────────────────┴───────────────┘\n",
              "</pre>\n"
            ],
            "text/plain": [
              "┏━━━━━━━━━━━━━━━━━━━━━━━━━━━━━━━━━┳━━━━━━━━━━━━━━━━━━━━━━━━┳━━━━━━━━━━━━━━━┓\n",
              "┃\u001b[1m \u001b[0m\u001b[1mLayer (type)                   \u001b[0m\u001b[1m \u001b[0m┃\u001b[1m \u001b[0m\u001b[1mOutput Shape          \u001b[0m\u001b[1m \u001b[0m┃\u001b[1m \u001b[0m\u001b[1m      Param #\u001b[0m\u001b[1m \u001b[0m┃\n",
              "┡━━━━━━━━━━━━━━━━━━━━━━━━━━━━━━━━━╇━━━━━━━━━━━━━━━━━━━━━━━━╇━━━━━━━━━━━━━━━┩\n",
              "│ lstm_6 (\u001b[38;5;33mLSTM\u001b[0m)                   │ (\u001b[38;5;45mNone\u001b[0m, \u001b[38;5;34m64\u001b[0m)             │        \u001b[38;5;34m17,152\u001b[0m │\n",
              "├─────────────────────────────────┼────────────────────────┼───────────────┤\n",
              "│ dropout_5 (\u001b[38;5;33mDropout\u001b[0m)             │ (\u001b[38;5;45mNone\u001b[0m, \u001b[38;5;34m64\u001b[0m)             │             \u001b[38;5;34m0\u001b[0m │\n",
              "├─────────────────────────────────┼────────────────────────┼───────────────┤\n",
              "│ dense_6 (\u001b[38;5;33mDense\u001b[0m)                 │ (\u001b[38;5;45mNone\u001b[0m, \u001b[38;5;34m32\u001b[0m)             │         \u001b[38;5;34m2,080\u001b[0m │\n",
              "├─────────────────────────────────┼────────────────────────┼───────────────┤\n",
              "│ dropout_6 (\u001b[38;5;33mDropout\u001b[0m)             │ (\u001b[38;5;45mNone\u001b[0m, \u001b[38;5;34m32\u001b[0m)             │             \u001b[38;5;34m0\u001b[0m │\n",
              "├─────────────────────────────────┼────────────────────────┼───────────────┤\n",
              "│ dense_7 (\u001b[38;5;33mDense\u001b[0m)                 │ (\u001b[38;5;45mNone\u001b[0m, \u001b[38;5;34m16\u001b[0m)             │           \u001b[38;5;34m528\u001b[0m │\n",
              "├─────────────────────────────────┼────────────────────────┼───────────────┤\n",
              "│ dense_8 (\u001b[38;5;33mDense\u001b[0m)                 │ (\u001b[38;5;45mNone\u001b[0m, \u001b[38;5;34m1\u001b[0m)              │            \u001b[38;5;34m17\u001b[0m │\n",
              "└─────────────────────────────────┴────────────────────────┴───────────────┘\n"
            ]
          },
          "metadata": {},
          "output_type": "display_data"
        },
        {
          "data": {
            "text/html": [
              "<pre style=\"white-space:pre;overflow-x:auto;line-height:normal;font-family:Menlo,'DejaVu Sans Mono',consolas,'Courier New',monospace\"><span style=\"font-weight: bold\"> Total params: </span><span style=\"color: #00af00; text-decoration-color: #00af00\">19,777</span> (77.25 KB)\n",
              "</pre>\n"
            ],
            "text/plain": [
              "\u001b[1m Total params: \u001b[0m\u001b[38;5;34m19,777\u001b[0m (77.25 KB)\n"
            ]
          },
          "metadata": {},
          "output_type": "display_data"
        },
        {
          "data": {
            "text/html": [
              "<pre style=\"white-space:pre;overflow-x:auto;line-height:normal;font-family:Menlo,'DejaVu Sans Mono',consolas,'Courier New',monospace\"><span style=\"font-weight: bold\"> Trainable params: </span><span style=\"color: #00af00; text-decoration-color: #00af00\">19,777</span> (77.25 KB)\n",
              "</pre>\n"
            ],
            "text/plain": [
              "\u001b[1m Trainable params: \u001b[0m\u001b[38;5;34m19,777\u001b[0m (77.25 KB)\n"
            ]
          },
          "metadata": {},
          "output_type": "display_data"
        },
        {
          "data": {
            "text/html": [
              "<pre style=\"white-space:pre;overflow-x:auto;line-height:normal;font-family:Menlo,'DejaVu Sans Mono',consolas,'Courier New',monospace\"><span style=\"font-weight: bold\"> Non-trainable params: </span><span style=\"color: #00af00; text-decoration-color: #00af00\">0</span> (0.00 B)\n",
              "</pre>\n"
            ],
            "text/plain": [
              "\u001b[1m Non-trainable params: \u001b[0m\u001b[38;5;34m0\u001b[0m (0.00 B)\n"
            ]
          },
          "metadata": {},
          "output_type": "display_data"
        },
        {
          "name": "stdout",
          "output_type": "stream",
          "text": [
            "Training the model...\n",
            "Epoch 1/30\n",
            "\u001b[1m875/875\u001b[0m \u001b[32m━━━━━━━━━━━━━━━━━━━━\u001b[0m\u001b[37m\u001b[0m \u001b[1m13s\u001b[0m 9ms/step - accuracy: 0.7435 - loss: 0.5238 - val_accuracy: 0.7906 - val_loss: 0.4224\n",
            "Epoch 2/30\n",
            "\u001b[1m875/875\u001b[0m \u001b[32m━━━━━━━━━━━━━━━━━━━━\u001b[0m\u001b[37m\u001b[0m \u001b[1m12s\u001b[0m 13ms/step - accuracy: 0.7841 - loss: 0.4325 - val_accuracy: 0.8030 - val_loss: 0.4020\n",
            "Epoch 3/30\n",
            "\u001b[1m875/875\u001b[0m \u001b[32m━━━━━━━━━━━━━━━━━━━━\u001b[0m\u001b[37m\u001b[0m \u001b[1m17s\u001b[0m 8ms/step - accuracy: 0.7958 - loss: 0.4149 - val_accuracy: 0.8243 - val_loss: 0.3816\n",
            "Epoch 4/30\n",
            "\u001b[1m875/875\u001b[0m \u001b[32m━━━━━━━━━━━━━━━━━━━━\u001b[0m\u001b[37m\u001b[0m \u001b[1m12s\u001b[0m 11ms/step - accuracy: 0.8148 - loss: 0.3907 - val_accuracy: 0.8356 - val_loss: 0.3657\n",
            "Epoch 5/30\n",
            "\u001b[1m875/875\u001b[0m \u001b[32m━━━━━━━━━━━━━━━━━━━━\u001b[0m\u001b[37m\u001b[0m \u001b[1m8s\u001b[0m 9ms/step - accuracy: 0.8349 - loss: 0.3707 - val_accuracy: 0.8435 - val_loss: 0.3551\n",
            "Epoch 6/30\n",
            "\u001b[1m875/875\u001b[0m \u001b[32m━━━━━━━━━━━━━━━━━━━━\u001b[0m\u001b[37m\u001b[0m \u001b[1m11s\u001b[0m 13ms/step - accuracy: 0.8373 - loss: 0.3655 - val_accuracy: 0.8477 - val_loss: 0.3433\n",
            "Epoch 7/30\n",
            "\u001b[1m875/875\u001b[0m \u001b[32m━━━━━━━━━━━━━━━━━━━━\u001b[0m\u001b[37m\u001b[0m \u001b[1m17s\u001b[0m 9ms/step - accuracy: 0.8408 - loss: 0.3586 - val_accuracy: 0.8437 - val_loss: 0.3475\n",
            "Epoch 8/30\n",
            "\u001b[1m875/875\u001b[0m \u001b[32m━━━━━━━━━━━━━━━━━━━━\u001b[0m\u001b[37m\u001b[0m \u001b[1m13s\u001b[0m 15ms/step - accuracy: 0.8409 - loss: 0.3538 - val_accuracy: 0.8562 - val_loss: 0.3364\n",
            "Epoch 9/30\n",
            "\u001b[1m875/875\u001b[0m \u001b[32m━━━━━━━━━━━━━━━━━━━━\u001b[0m\u001b[37m\u001b[0m \u001b[1m8s\u001b[0m 9ms/step - accuracy: 0.8483 - loss: 0.3469 - val_accuracy: 0.8539 - val_loss: 0.3331\n",
            "Epoch 10/30\n",
            "\u001b[1m875/875\u001b[0m \u001b[32m━━━━━━━━━━━━━━━━━━━━\u001b[0m\u001b[37m\u001b[0m \u001b[1m11s\u001b[0m 12ms/step - accuracy: 0.8455 - loss: 0.3458 - val_accuracy: 0.8573 - val_loss: 0.3286\n",
            "Epoch 11/30\n",
            "\u001b[1m875/875\u001b[0m \u001b[32m━━━━━━━━━━━━━━━━━━━━\u001b[0m\u001b[37m\u001b[0m \u001b[1m18s\u001b[0m 9ms/step - accuracy: 0.8515 - loss: 0.3432 - val_accuracy: 0.8573 - val_loss: 0.3267\n",
            "Epoch 12/30\n",
            "\u001b[1m875/875\u001b[0m \u001b[32m━━━━━━━━━━━━━━━━━━━━\u001b[0m\u001b[37m\u001b[0m \u001b[1m12s\u001b[0m 11ms/step - accuracy: 0.8532 - loss: 0.3368 - val_accuracy: 0.8586 - val_loss: 0.3255\n",
            "Epoch 13/30\n",
            "\u001b[1m875/875\u001b[0m \u001b[32m━━━━━━━━━━━━━━━━━━━━\u001b[0m\u001b[37m\u001b[0m \u001b[1m10s\u001b[0m 11ms/step - accuracy: 0.8557 - loss: 0.3348 - val_accuracy: 0.8596 - val_loss: 0.3244\n",
            "Epoch 14/30\n",
            "\u001b[1m875/875\u001b[0m \u001b[32m━━━━━━━━━━━━━━━━━━━━\u001b[0m\u001b[37m\u001b[0m \u001b[1m11s\u001b[0m 12ms/step - accuracy: 0.8576 - loss: 0.3302 - val_accuracy: 0.8568 - val_loss: 0.3234\n",
            "Epoch 15/30\n",
            "\u001b[1m875/875\u001b[0m \u001b[32m━━━━━━━━━━━━━━━━━━━━\u001b[0m\u001b[37m\u001b[0m \u001b[1m21s\u001b[0m 13ms/step - accuracy: 0.8584 - loss: 0.3277 - val_accuracy: 0.8618 - val_loss: 0.3188\n",
            "Epoch 16/30\n",
            "\u001b[1m875/875\u001b[0m \u001b[32m━━━━━━━━━━━━━━━━━━━━\u001b[0m\u001b[37m\u001b[0m \u001b[1m23s\u001b[0m 16ms/step - accuracy: 0.8566 - loss: 0.3309 - val_accuracy: 0.8616 - val_loss: 0.3207\n",
            "Epoch 17/30\n",
            "\u001b[1m875/875\u001b[0m \u001b[32m━━━━━━━━━━━━━━━━━━━━\u001b[0m\u001b[37m\u001b[0m \u001b[1m14s\u001b[0m 9ms/step - accuracy: 0.8548 - loss: 0.3305 - val_accuracy: 0.8589 - val_loss: 0.3179\n",
            "Epoch 18/30\n",
            "\u001b[1m875/875\u001b[0m \u001b[32m━━━━━━━━━━━━━━━━━━━━\u001b[0m\u001b[37m\u001b[0m \u001b[1m11s\u001b[0m 13ms/step - accuracy: 0.8588 - loss: 0.3292 - val_accuracy: 0.8610 - val_loss: 0.3181\n",
            "Epoch 19/30\n",
            "\u001b[1m875/875\u001b[0m \u001b[32m━━━━━━━━━━━━━━━━━━━━\u001b[0m\u001b[37m\u001b[0m \u001b[1m17s\u001b[0m 9ms/step - accuracy: 0.8542 - loss: 0.3323 - val_accuracy: 0.8646 - val_loss: 0.3132\n",
            "Epoch 20/30\n",
            "\u001b[1m875/875\u001b[0m \u001b[32m━━━━━━━━━━━━━━━━━━━━\u001b[0m\u001b[37m\u001b[0m \u001b[1m14s\u001b[0m 14ms/step - accuracy: 0.8571 - loss: 0.3282 - val_accuracy: 0.8648 - val_loss: 0.3136\n",
            "Epoch 21/30\n",
            "\u001b[1m875/875\u001b[0m \u001b[32m━━━━━━━━━━━━━━━━━━━━\u001b[0m\u001b[37m\u001b[0m \u001b[1m7s\u001b[0m 8ms/step - accuracy: 0.8601 - loss: 0.3210 - val_accuracy: 0.8639 - val_loss: 0.3129\n",
            "Epoch 22/30\n",
            "\u001b[1m875/875\u001b[0m \u001b[32m━━━━━━━━━━━━━━━━━━━━\u001b[0m\u001b[37m\u001b[0m \u001b[1m14s\u001b[0m 12ms/step - accuracy: 0.8614 - loss: 0.3221 - val_accuracy: 0.8658 - val_loss: 0.3126\n",
            "Epoch 23/30\n",
            "\u001b[1m875/875\u001b[0m \u001b[32m━━━━━━━━━━━━━━━━━━━━\u001b[0m\u001b[37m\u001b[0m \u001b[1m21s\u001b[0m 12ms/step - accuracy: 0.8641 - loss: 0.3218 - val_accuracy: 0.8640 - val_loss: 0.3122\n",
            "Epoch 24/30\n",
            "\u001b[1m875/875\u001b[0m \u001b[32m━━━━━━━━━━━━━━━━━━━━\u001b[0m\u001b[37m\u001b[0m \u001b[1m20s\u001b[0m 11ms/step - accuracy: 0.8624 - loss: 0.3215 - val_accuracy: 0.8652 - val_loss: 0.3127\n",
            "Epoch 25/30\n",
            "\u001b[1m875/875\u001b[0m \u001b[32m━━━━━━━━━━━━━━━━━━━━\u001b[0m\u001b[37m\u001b[0m \u001b[1m11s\u001b[0m 13ms/step - accuracy: 0.8596 - loss: 0.3246 - val_accuracy: 0.8648 - val_loss: 0.3148\n",
            "Epoch 26/30\n",
            "\u001b[1m875/875\u001b[0m \u001b[32m━━━━━━━━━━━━━━━━━━━━\u001b[0m\u001b[37m\u001b[0m \u001b[1m19s\u001b[0m 11ms/step - accuracy: 0.8629 - loss: 0.3197 - val_accuracy: 0.8616 - val_loss: 0.3128\n",
            "Epoch 27/30\n",
            "\u001b[1m875/875\u001b[0m \u001b[32m━━━━━━━━━━━━━━━━━━━━\u001b[0m\u001b[37m\u001b[0m \u001b[1m9s\u001b[0m 10ms/step - accuracy: 0.8568 - loss: 0.3268 - val_accuracy: 0.8670 - val_loss: 0.3096\n",
            "Epoch 28/30\n",
            "\u001b[1m875/875\u001b[0m \u001b[32m━━━━━━━━━━━━━━━━━━━━\u001b[0m\u001b[37m\u001b[0m \u001b[1m11s\u001b[0m 12ms/step - accuracy: 0.8653 - loss: 0.3176 - val_accuracy: 0.8660 - val_loss: 0.3106\n",
            "Epoch 29/30\n",
            "\u001b[1m875/875\u001b[0m \u001b[32m━━━━━━━━━━━━━━━━━━━━\u001b[0m\u001b[37m\u001b[0m \u001b[1m18s\u001b[0m 9ms/step - accuracy: 0.8612 - loss: 0.3221 - val_accuracy: 0.8656 - val_loss: 0.3089\n",
            "Epoch 30/30\n",
            "\u001b[1m875/875\u001b[0m \u001b[32m━━━━━━━━━━━━━━━━━━━━\u001b[0m\u001b[37m\u001b[0m \u001b[1m9s\u001b[0m 10ms/step - accuracy: 0.8666 - loss: 0.3154 - val_accuracy: 0.8672 - val_loss: 0.3126\n"
          ]
        }
      ],
      "source": [
        "# Build improved LSTM model\n",
        "model = Sequential([\n",
        "    LSTM(64, input_shape=(lookback_days, sequence_features), return_sequences=False),\n",
        "    Dropout(0.3),\n",
        "    Dense(32, activation='relu'),\n",
        "    Dropout(0.2),\n",
        "    Dense(16, activation='relu'),\n",
        "    Dense(1, activation='sigmoid')\n",
        "])\n",
        "\n",
        "model.compile(\n",
        "    optimizer=Adam(learning_rate=0.001),\n",
        "    loss='binary_crossentropy',\n",
        "    metrics=['accuracy']\n",
        ")\n",
        "\n",
        "print(\"Model Summary:\")\n",
        "model.summary()\n",
        "\n",
        "# Train the model\n",
        "print(\"Training the model...\")\n",
        "history = model.fit(\n",
        "    X_seq_train, y_train,\n",
        "    validation_data=(X_seq_test, y_test),\n",
        "    epochs=30,\n",
        "    batch_size=32,\n",
        "    verbose=1\n",
        ")"
      ]
    },
    {
      "cell_type": "code",
      "execution_count": null,
      "metadata": {
        "colab": {
          "base_uri": "https://localhost:8080/",
          "height": 1000
        },
        "id": "IGqQL1gNzlWB",
        "outputId": "c5116d8b-fffe-42c5-915a-8cba94924a4d"
      },
      "outputs": [
        {
          "name": "stdout",
          "output_type": "stream",
          "text": [
            "\n",
            "Evaluating the model...\n",
            "Training Accuracy: 86.80%\n",
            "Test Accuracy: 86.72%\n",
            "\n",
            "Classification Report:\n",
            "              precision    recall  f1-score   support\n",
            "\n",
            "     Non-Hit       0.83      0.90      0.86      3285\n",
            "         Hit       0.90      0.84      0.87      3710\n",
            "\n",
            "    accuracy                           0.87      6995\n",
            "   macro avg       0.87      0.87      0.87      6995\n",
            "weighted avg       0.87      0.87      0.87      6995\n",
            "\n",
            "\n",
            "Confusion Matrix:\n",
            "[[2945  340]\n",
            " [ 589 3121]]\n",
            "\n",
            "Sample Predictions:\n",
            "Song 5117: Prediction=0 (0.160), Actual=0, ✓\n",
            "Song 3999: Prediction=0 (0.124), Actual=0, ✓\n",
            "Song 3777: Prediction=0 (0.251), Actual=0, ✓\n",
            "Song 1790: Prediction=1 (0.998), Actual=1, ✓\n",
            "Song 2957: Prediction=1 (0.993), Actual=1, ✓\n",
            "Song 5010: Prediction=1 (1.000), Actual=1, ✓\n",
            "Song 6735: Prediction=0 (0.079), Actual=0, ✓\n",
            "Song 5746: Prediction=1 (1.000), Actual=1, ✓\n",
            "Song 5453: Prediction=1 (0.747), Actual=0, ✗\n",
            "Song 4861: Prediction=0 (0.108), Actual=0, ✓\n"
          ]
        },
        {
          "data": {
            "image/png": "[encoded data removed]",
            "text/plain": [
              "<Figure size 1200x400 with 2 Axes>"
            ]
          },
          "metadata": {},
          "output_type": "display_data"
        },
        {
          "name": "stdout",
          "output_type": "stream",
          "text": [
            "\n",
            "Analyzing prediction patterns...\n"
          ]
        },
        {
          "data": {
            "image/png": "[encoded data removed]",
            "text/plain": [
              "<Figure size 1200x400 with 2 Axes>"
            ]
          },
          "metadata": {},
          "output_type": "display_data"
        },
        {
          "name": "stdout",
          "output_type": "stream",
          "text": [
            "\n",
            "Model training completed!\n",
            "Final test accuracy: 86.72%\n"
          ]
        }
      ],
      "source": [
        "# Evaluate the model\n",
        "print(\"\\nEvaluating the model...\")\n",
        "train_loss, train_acc = model.evaluate(X_seq_train, y_train, verbose=0)\n",
        "test_loss, test_acc = model.evaluate(X_seq_test, y_test, verbose=0)\n",
        "\n",
        "print(f\"Training Accuracy: {train_acc*100:.2f}%\")\n",
        "print(f\"Test Accuracy: {test_acc*100:.2f}%\")\n",
        "\n",
        "# Make predictions\n",
        "y_pred_proba = model.predict(X_seq_test, verbose=0)\n",
        "y_pred = (y_pred_proba > 0.5).astype(int).flatten()\n",
        "\n",
        "# Detailed evaluation\n",
        "print(\"\\nClassification Report:\")\n",
        "print(classification_report(y_test, y_pred, target_names=['Non-Hit', 'Hit']))\n",
        "\n",
        "print(\"\\nConfusion Matrix:\")\n",
        "print(confusion_matrix(y_test, y_pred))\n",
        "\n",
        "# Show some prediction examples\n",
        "print(\"\\nSample Predictions:\")\n",
        "sample_indices = np.random.choice(len(y_test), 10, replace=False)\n",
        "\n",
        "for i in sample_indices:\n",
        "    original_idx = i  # This would need to be mapped back to original data\n",
        "    prob = y_pred_proba[i][0]\n",
        "    pred = y_pred[i]\n",
        "    actual = y_test[i]\n",
        "\n",
        "    print(f\"Song {i+1}: Prediction={pred} ({prob:.3f}), Actual={actual}, \" +\n",
        "          f\"{'✓' if pred == actual else '✗'}\")\n",
        "\n",
        "# Plot training history\n",
        "plt.figure(figsize=(12, 4))\n",
        "\n",
        "plt.subplot(1, 2, 1)\n",
        "plt.plot(history.history['loss'], label='Training Loss')\n",
        "plt.plot(history.history['val_loss'], label='Validation Loss')\n",
        "plt.title('Model Loss')\n",
        "plt.xlabel('Epoch')\n",
        "plt.ylabel('Loss')\n",
        "plt.legend()\n",
        "\n",
        "plt.subplot(1, 2, 2)\n",
        "plt.plot(history.history['accuracy'], label='Training Accuracy')\n",
        "plt.plot(history.history['val_accuracy'], label='Validation Accuracy')\n",
        "plt.title('Model Accuracy')\n",
        "plt.xlabel('Epoch')\n",
        "plt.ylabel('Accuracy')\n",
        "plt.legend()\n",
        "\n",
        "plt.tight_layout()\n",
        "plt.show()\n",
        "\n",
        "# Feature importance analysis (simplified)\n",
        "print(\"\\nAnalyzing prediction patterns...\")\n",
        "\n",
        "# Get predictions for all test data\n",
        "hit_predictions = X_seq_test[y_pred == 1]\n",
        "non_hit_predictions = X_seq_test[y_pred == 0]\n",
        "\n",
        "if len(hit_predictions) > 0 and len(non_hit_predictions) > 0:\n",
        "    # Analyze average patterns\n",
        "    hit_avg_streams = np.mean(hit_predictions[:, :, 0], axis=0)  # streams over days\n",
        "    non_hit_avg_streams = np.mean(non_hit_predictions[:, :, 0], axis=0)\n",
        "\n",
        "    hit_avg_ranks = np.mean(hit_predictions[:, :, 1], axis=0)  # ranks over days\n",
        "    non_hit_avg_ranks = np.mean(non_hit_predictions[:, :, 1], axis=0)\n",
        "\n",
        "    plt.figure(figsize=(12, 4))\n",
        "\n",
        "    plt.subplot(1, 2, 1)\n",
        "    plt.plot(range(1, 8), hit_avg_streams, 'r-', label='Predicted Hits', marker='o')\n",
        "    plt.plot(range(1, 8), non_hit_avg_streams, 'b-', label='Predicted Non-hits', marker='s')\n",
        "    plt.title('Average Stream Pattern (Normalized)')\n",
        "    plt.xlabel('Day')\n",
        "    plt.ylabel('Normalized Streams')\n",
        "    plt.legend()\n",
        "    plt.grid(True, alpha=0.3)\n",
        "\n",
        "    plt.subplot(1, 2, 2)\n",
        "    plt.plot(range(1, 8), hit_avg_ranks, 'r-', label='Predicted Hits', marker='o')\n",
        "    plt.plot(range(1, 8), non_hit_avg_ranks, 'b-', label='Predicted Non-hits', marker='s')\n",
        "    plt.title('Average Rank Pattern (Normalized)')\n",
        "    plt.xlabel('Day')\n",
        "    plt.ylabel('Normalized Rank')\n",
        "    plt.legend()\n",
        "    plt.grid(True, alpha=0.3)\n",
        "\n",
        "    plt.tight_layout()\n",
        "    plt.show()\n",
        "\n",
        "print(\"\\nModel training completed!\")\n",
        "print(f\"Final test accuracy: {test_acc*100:.2f}%\")"
      ]
    },
    {
      "cell_type": "markdown",
      "metadata": {
        "id": "L999JUw337Uc"
      },
      "source": [
        "**WORKFLOW: (Hit Song Prediction using Spotify Daily Top 200 Data with LSTM)**\n",
        "\n",
        "**1. Kaggle API Setup and Dataset Download**\n",
        "\n",
        "* Installed `kaggle` package.\n",
        "* Uploaded `kaggle.json` API key for authentication.\n",
        "* Stored credentials in `~/.kaggle` with proper permissions.\n",
        "* Downloaded dataset **\"Spotify Daily Top 200\"** from Kaggle.\n",
        "* Extracted data into `spotify_data` folder.\n",
        "\n",
        "**2. Data Loading and Preprocessing**\n",
        "\n",
        "* Loaded `charts.csv` into a Pandas DataFrame.\n",
        "* Selected relevant columns: `title`, `date`, `rank`, `streams`, `artist`.\n",
        "* Converted `date` to datetime format and removed rows with missing values.\n",
        "* Converted `rank` and `streams` to integers.\n",
        "* Sorted the dataset by `title` and `date`.\n",
        "* Printed total number of cleaned records.\n",
        "\n",
        "**3. Temporal Prediction Dataset Creation**\n",
        "\n",
        "* Defined `create_hit_prediction_data()` to prepare training samples:\n",
        "\n",
        "  * **Lookback period**: First 7 days after a song appears → input features.\n",
        "  * **Prediction window**: Next 21 days → determine if the song reaches **top 50**.\n",
        "  * Computed raw features:\n",
        "\n",
        "    * Daily streams for first 7 days\n",
        "    * Daily ranks for first 7 days\n",
        "  * Computed engineered features:\n",
        "\n",
        "    * Average early streams\n",
        "    * Max early streams\n",
        "    * Minimum early rank\n",
        "    * Linear trend of early streams\n",
        "  * Assigned label `is_hit` (1 if hit, 0 otherwise).\n",
        "* Returned list of dictionaries with features, labels, and metadata.\n",
        "\n",
        "**4. Feature Matrix Preparation and Scaling**\n",
        "\n",
        "* Converted features and labels to NumPy arrays:\n",
        "\n",
        "  * `X` → combined raw + engineered features.\n",
        "  * `y` → binary hit labels.\n",
        "* Applied `MinMaxScaler` to normalize features.\n",
        "* Reshaped first part of features into **sequence format** `(lookback_days, 2)` for LSTM (streams & ranks).\n",
        "* Retained static engineered features separately.\n",
        "\n",
        "**5. Train/Test Split**\n",
        "\n",
        "* Used `train_test_split()` with `test_size=0.2` and stratified sampling on `y`.\n",
        "* Created `X_seq_train`/`X_seq_test` for sequence input and corresponding `y_train`/`y_test`.\n",
        "\n",
        "**6. LSTM Model Building**\n",
        "\n",
        "* Built Sequential LSTM model:\n",
        "\n",
        "  * LSTM(64) with `(lookback_days, sequence_features)` input shape.\n",
        "  * Dropout(0.3)\n",
        "  * Dense(32, relu) → Dropout(0.2) → Dense(16, relu)\n",
        "  * Output Dense(1, sigmoid) for binary classification.\n",
        "* Compiled with:\n",
        "\n",
        "  * Loss: `binary_crossentropy`\n",
        "  * Optimizer: `Adam(learning_rate=0.001)`\n",
        "  * Metric: `accuracy`.\n",
        "\n",
        "**7. Model Training**\n",
        "\n",
        "* Trained for 30 epochs, batch size 32.\n",
        "* Used `(X_seq_test, y_test)` for validation.\n",
        "\n",
        "**8. Model Evaluation**\n",
        "\n",
        "* Calculated training and test accuracy using `model.evaluate()`.\n",
        "* Generated predictions (`y_pred_proba`, `y_pred`).\n",
        "* Computed and displayed:\n",
        "\n",
        "  * **Classification Report** (precision, recall, F1-score)\n",
        "  * **Confusion Matrix**\n",
        "* Displayed sample predictions with predicted probability, actual label, and correctness.\n",
        "\n",
        "**9. Training History Visualization**\n",
        "\n",
        "* Plotted **Training vs Validation Loss**.\n",
        "* Plotted **Training vs Validation Accuracy**.\n",
        "\n",
        "**10. Feature Importance & Pattern Analysis**\n",
        "\n",
        "* Compared average **normalized daily streams** and **normalized daily ranks** between predicted hits and predicted non-hits.\n",
        "* Plotted:\n",
        "\n",
        "  * Average stream pattern (Days 1–7) for hits vs non-hits.\n",
        "  * Average rank pattern (Days 1–7) for hits vs non-hits.\n",
        "\n",
        "**11. Final Output**\n",
        "\n",
        "* Reported final test accuracy.\n",
        "* Declared model training complete.\n",
        "\n",
        "\n"
      ]
    }
  ],
  "metadata": {
    "accelerator": "GPU",
    "colab": {
      "gpuType": "T4",
      "provenance": []
    },
    "kernelspec": {
      "display_name": "Python 3",
      "name": "python3"
    },
    "language_info": {
      "name": "python",
      "version": "3.12.5"
    }
  },
  "nbformat": 4,
  "nbformat_minor": 0
}
