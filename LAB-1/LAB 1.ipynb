{
 "cells": [
  {
   "cell_type": "markdown",
   "id": "b4e4797f",
   "metadata": {},
   "source": [
    "# Name: Neelanjan Dutta"
   ]
  },
  {
   "cell_type": "markdown",
   "id": "816c58ac",
   "metadata": {},
   "source": [
    "# Register number: 2448040 "
   ]
  },
  {
   "cell_type": "markdown",
   "id": "133123b6",
   "metadata": {},
   "source": [
    "# Section A"
   ]
  },
  {
   "cell_type": "markdown",
   "id": "5bd0ff97",
   "metadata": {},
   "source": [
    "# Program 1: Implementation of Simple neural network with activation function"
   ]
  },
  {
   "cell_type": "markdown",
   "id": "d678bc25",
   "metadata": {},
   "source": [
    "Question: <br>\n",
    "1. Calculate the output of a simple neuron Y for the given network  using the following activation functions: <br>\n",
    "a. Binary (Threshold θ=0.5) <br>\n",
    "b. Bipolar (Threshold θ=0.5) <br>\n",
    "c. Binary sigmoidal <br>\n",
    "d. Bipolar sigmoidal <br>"
   ]
  },
  {
   "cell_type": "code",
   "execution_count": 1,
   "id": "f7d2243a",
   "metadata": {},
   "outputs": [],
   "source": [
    "import math\n",
    "\n",
    "#Values\n",
    "x1=0.8\n",
    "x2=0.6\n",
    "x3=0.4\n",
    "b=0.35\n",
    "\n",
    "#Weights\n",
    "w1=0.1\n",
    "w2=0.3\n",
    "w3=-0.2\n",
    "\n",
    "#Threshold\n",
    "theta=0.5"
   ]
  },
  {
   "cell_type": "code",
   "execution_count": 2,
   "id": "3b55a579",
   "metadata": {},
   "outputs": [
    {
     "data": {
      "text/plain": [
       "0.53"
      ]
     },
     "execution_count": 2,
     "metadata": {},
     "output_type": "execute_result"
    }
   ],
   "source": [
    "#Net input\n",
    "y_in= b+(x1*w1)+(x2*w2)+(x3*w3)\n",
    "y_in"
   ]
  },
  {
   "cell_type": "code",
   "execution_count": 3,
   "id": "e3789bdd",
   "metadata": {},
   "outputs": [
    {
     "name": "stdout",
     "output_type": "stream",
     "text": [
      "Binary Threshold = 1\n"
     ]
    }
   ],
   "source": [
    "#Binary threshold\n",
    "def binary_threshold(y_in,theta):\n",
    "    return 1 if y_in >= theta else 0\n",
    "print(\"Binary Threshold =\", binary_threshold(y_in, theta))"
   ]
  },
  {
   "cell_type": "code",
   "execution_count": 4,
   "id": "6677b492",
   "metadata": {},
   "outputs": [
    {
     "name": "stdout",
     "output_type": "stream",
     "text": [
      "Bipolar Threshold =  1\n"
     ]
    }
   ],
   "source": [
    "#Bipolar threshold\n",
    "def bipolar_threshold(y_in,theta):\n",
    "    return 1 if y_in >= theta else -1\n",
    "print(\"Bipolar Threshold = \", bipolar_threshold(y_in, theta))"
   ]
  },
  {
   "cell_type": "code",
   "execution_count": 5,
   "id": "89358a51",
   "metadata": {},
   "outputs": [
    {
     "name": "stdout",
     "output_type": "stream",
     "text": [
      "Binary sigmoidal =  0.6295\n"
     ]
    }
   ],
   "source": [
    "#Binary sigmoidal\n",
    "def binary_sigmoidal(y_in):\n",
    "    return 1/(1+ math.exp(-y_in))\n",
    "print(\"Binary sigmoidal = \", round(binary_sigmoidal(y_in),4))"
   ]
  },
  {
   "cell_type": "code",
   "execution_count": 6,
   "id": "69bdc2bb",
   "metadata": {},
   "outputs": [
    {
     "name": "stdout",
     "output_type": "stream",
     "text": [
      "Bipolar sigmoidal =  0.259\n"
     ]
    }
   ],
   "source": [
    "#Bipolar sigmoidal\n",
    "def bipolar_sigmoidal(y_in):\n",
    "    return (1-math.exp(-y_in))/(1+math.exp(-y_in))\n",
    "print(\"Bipolar sigmoidal = \", round(bipolar_sigmoidal(y_in),4))"
   ]
  },
  {
   "cell_type": "markdown",
   "id": "929edfc7",
   "metadata": {},
   "source": [
    "# Program 2: Implement perceptron network for AND function"
   ]
  },
  {
   "cell_type": "code",
   "execution_count": 7,
   "id": "d501f600",
   "metadata": {},
   "outputs": [],
   "source": [
    "inputs = [\n",
    "    [1, 1],\n",
    "    [1, -1],\n",
    "    [-1, 1],\n",
    "    [-1, -1]\n",
    "]\n",
    "\n",
    "targets = [1, -1, -1, -1]\n",
    "\n",
    "w1 = 0  # weight for x1\n",
    "w2 = 0  # weight for x2\n",
    "bias = 0  # bias term\n",
    "learning_rate = 1  # learning rate \n",
    "theta = 0 #threshold"
   ]
  },
  {
   "cell_type": "code",
   "execution_count": 8,
   "id": "38203711",
   "metadata": {},
   "outputs": [
    {
     "name": "stdout",
     "output_type": "stream",
     "text": [
      "\n",
      "Epoch 1\n",
      "Input: 1, 1 | y_in: 0 | Output: 1 | Target: 1\n",
      "No update needed\n",
      "Input: 1, -1 | y_in: 0 | Output: 1 | Target: -1\n",
      "Updated → w1: -1, w2: 1, bias: -1\n",
      "Input: -1, 1 | y_in: 1 | Output: 1 | Target: -1\n",
      "Updated → w1: 0, w2: 0, bias: -2\n",
      "Input: -1, -1 | y_in: -2 | Output: -1 | Target: -1\n",
      "No update needed\n",
      "\n",
      "Epoch 2\n",
      "Input: 1, 1 | y_in: -2 | Output: -1 | Target: 1\n",
      "Updated → w1: 1, w2: 1, bias: -1\n",
      "Input: 1, -1 | y_in: -1 | Output: -1 | Target: -1\n",
      "No update needed\n",
      "Input: -1, 1 | y_in: -1 | Output: -1 | Target: -1\n",
      "No update needed\n",
      "Input: -1, -1 | y_in: -3 | Output: -1 | Target: -1\n",
      "No update needed\n",
      "\n",
      "Epoch 3\n",
      "Input: 1, 1 | y_in: 1 | Output: 1 | Target: 1\n",
      "No update needed\n",
      "Input: 1, -1 | y_in: -1 | Output: -1 | Target: -1\n",
      "No update needed\n",
      "Input: -1, 1 | y_in: -1 | Output: -1 | Target: -1\n",
      "No update needed\n",
      "Input: -1, -1 | y_in: -3 | Output: -1 | Target: -1\n",
      "No update needed\n",
      "\n",
      "Training completed.\n"
     ]
    }
   ],
   "source": [
    "#Defining the activation function (bipolar step function)\n",
    "def activation(y_in,theta):\n",
    "    return 1 if y_in >= theta else -1\n",
    "\n",
    "epoch = 1\n",
    "while True:\n",
    "    print(f\"\\nEpoch {epoch}\")\n",
    "    changes = 0  # to track if any weights were updated\n",
    "    for i in range(len(inputs)):\n",
    "        x1 = inputs[i][0]  # first input value\n",
    "        x2 = inputs[i][1]  # second input value\n",
    "        t = targets[i]     # target value for current input\n",
    "        y_in = x1 * w1 + x2 * w2 + bias # net input\n",
    "        y = activation(y_in,theta) # activation function\n",
    "\n",
    "        print(f\"Input: {x1}, {x2} | y_in: {y_in} | Output: {y} | Target: {t}\")\n",
    "\n",
    "        if y != t:\n",
    "            w1 += learning_rate * t * x1\n",
    "            w2 += learning_rate * t * x2\n",
    "            bias += learning_rate * t\n",
    "            print(f\"Updated → w1: {w1}, w2: {w2}, bias: {bias}\")\n",
    "            changes += 1\n",
    "        else:\n",
    "            print(\"No update needed\")\n",
    "    if changes == 0:\n",
    "        print(\"\\nTraining completed.\")\n",
    "        break\n",
    "\n",
    "    epoch += 1  # move to next epoch"
   ]
  }
 ],
 "metadata": {
  "kernelspec": {
   "display_name": "Python 3 (ipykernel)",
   "language": "python",
   "name": "python3"
  },
  "language_info": {
   "codemirror_mode": {
    "name": "ipython",
    "version": 3
   },
   "file_extension": ".py",
   "mimetype": "text/x-python",
   "name": "python",
   "nbconvert_exporter": "python",
   "pygments_lexer": "ipython3",
   "version": "3.11.5"
  }
 },
 "nbformat": 4,
 "nbformat_minor": 5
}
